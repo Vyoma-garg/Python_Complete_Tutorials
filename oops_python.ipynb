{
  "nbformat": 4,
  "nbformat_minor": 0,
  "metadata": {
    "colab": {
      "provenance": []
    },
    "kernelspec": {
      "name": "python3",
      "display_name": "Python 3"
    },
    "language_info": {
      "name": "python"
    }
  },
  "cells": [
    {
      "cell_type": "markdown",
      "metadata": {
        "id": "i0IFVrG4dIAp"
      },
      "source": [
        "# **OOPS**"
      ]
    },
    {
      "cell_type": "markdown",
      "metadata": {
        "id": "KVvT_Yz6L5Vo"
      },
      "source": [
        "**class and object**"
      ]
    },
    {
      "cell_type": "code",
      "metadata": {
        "colab": {
          "base_uri": "https://localhost:8080/"
        },
        "id": "dhz7MRBpdII4",
        "outputId": "01163aeb-5858-4a53-8888-9f8384025b71"
      },
      "source": [
        "class Computer:\n",
        "  def config(self):\n",
        "    print('My name is Vyoma')\n",
        "\n",
        "com1=Computer()  #object creation\n",
        "\n",
        "Computer.config(com1)\n",
        "com1.config()  #using object itself to call the method: object apneap le ra method"
      ],
      "execution_count": null,
      "outputs": [
        {
          "output_type": "stream",
          "text": [
            "My name is Vyoma\n",
            "My name is Vyoma\n"
          ],
          "name": "stdout"
        }
      ]
    },
    {
      "cell_type": "markdown",
      "metadata": {
        "id": "b1bqewk_L8S8"
      },
      "source": [
        "__init__ method"
      ]
    },
    {
      "cell_type": "code",
      "metadata": {
        "colab": {
          "base_uri": "https://localhost:8080/"
        },
        "id": "n0QqwFczL8Z3",
        "outputId": "9344df88-a341-42d9-c649-563f9acbef62"
      },
      "source": [
        "class Computer:\n",
        "\n",
        "  def __init__(self,cpu,ram):  #just like constructure, call krne ki no need, to initialise the variables,, special method\n",
        "                               #self for the object itself: com1\n",
        "    self.cpu= cpu #pasing to the object #i5 goes to the argumnet , assigned to self  , object com1 ko variable ki values mil jayegi\n",
        "    self.ram= ram\n",
        "\n",
        "\n",
        "\n",
        "  def config(self):\n",
        "    print('My name is Vyoma')\n",
        "    print(self.cpu,self.ram)\n",
        "\n",
        "com1=Computer('i5',16)\n",
        "\n",
        "#Computer.config(com1)\n",
        "com1.config()"
      ],
      "execution_count": null,
      "outputs": [
        {
          "output_type": "stream",
          "text": [
            "My name is Vyoma\n",
            "i5 16\n"
          ],
          "name": "stdout"
        }
      ]
    },
    {
      "cell_type": "markdown",
      "metadata": {
        "id": "eX8uStHEQ7cb"
      },
      "source": [
        "1. **size of the object in heap:**\n",
        "depends on the size of each variable and number of variables\n",
        "\n",
        "2. **who allocates size of object:** Constructor\n"
      ]
    },
    {
      "cell_type": "code",
      "metadata": {
        "colab": {
          "base_uri": "https://localhost:8080/"
        },
        "id": "qmrPt1ltSaBq",
        "outputId": "fa01cc15-9145-4768-9963-8673580f6428"
      },
      "source": [
        "class Computer:\n",
        "\n",
        "  def __init__(self):\n",
        "    self.name='Vyoma'\n",
        "    self.age=34\n",
        "\n",
        "  def update(self):\n",
        "    self.age=24\n",
        "\n",
        "  def compare(self,other):\n",
        "    if self.age==other.age:\n",
        "      return True\n",
        "    else:\n",
        "      return False\n",
        "\n",
        "\n",
        "com1=Computer()\n",
        "com2=Computer()\n",
        "print(id(com1))  #differnt address\n",
        "print(id(com2))\n",
        "\n",
        "com1.update()\n",
        "\n",
        "com1.name='Deep'\n",
        "\n",
        "print(com1.name)  #changing\n",
        "print(com2.name)\n",
        "\n",
        "print(com1.age)  #updated\n",
        "print(com2.age)\n",
        "\n",
        "if com1.compare(com2):  #com1 to self,,,, com2 to other\n",
        "  print('same')\n",
        "else:\n",
        "  print('diff')"
      ],
      "execution_count": null,
      "outputs": [
        {
          "output_type": "stream",
          "text": [
            "139856403242128\n",
            "139856403241168\n",
            "Deep\n",
            "Vyoma\n",
            "24\n",
            "34\n",
            "diff\n"
          ],
          "name": "stdout"
        }
      ]
    },
    {
      "cell_type": "markdown",
      "metadata": {
        "id": "qVa9u6LEWd77"
      },
      "source": [
        "Types of variables: instance and class"
      ]
    },
    {
      "cell_type": "code",
      "metadata": {
        "colab": {
          "base_uri": "https://localhost:8080/"
        },
        "id": "G-wQ51qJWi6L",
        "outputId": "2e969e4e-cc30-4471-f1dd-60e65405d4ee"
      },
      "source": [
        "class Computer:\n",
        "\n",
        "  wheels=4   #class variable\n",
        "\n",
        "  def __init__(self):\n",
        "\n",
        "    #instance variable: can be changed outside class: inside init\n",
        "    self.mil=10\n",
        "    self.car='BMW'\n",
        "\n",
        "\n",
        "\n",
        "\n",
        "com1=Computer()\n",
        "com2=Computer()\n",
        "\n",
        "com1.mil=5  #change for only com1 object, not com2 object\n",
        "\n",
        "Computer.wheels=6  #will change for all objects , shared\n",
        "\n",
        "print(com1.mil, com1.car, com1.wheels)\n",
        "\n",
        "print(com2.mil, com2.car, com2.wheels)"
      ],
      "execution_count": null,
      "outputs": [
        {
          "output_type": "stream",
          "text": [
            "5 BMW 6\n",
            "10 BMW 6\n"
          ],
          "name": "stdout"
        }
      ]
    },
    {
      "cell_type": "markdown",
      "metadata": {
        "id": "IQAKpONoYH8H"
      },
      "source": [
        "Types of method: class, instance and static"
      ]
    },
    {
      "cell_type": "code",
      "metadata": {
        "colab": {
          "base_uri": "https://localhost:8080/"
        },
        "id": "fJdfNoWqYHEh",
        "outputId": "d7942957-bffb-489d-9812-99caf824054e"
      },
      "source": [
        "#when working with instance methd: use self  : instance variables\n",
        "#with class method : use cls : for class variables\n",
        "#with static method: not concerned with any variable\n",
        "\n",
        "\n",
        "class students:\n",
        "\n",
        "  school='dewan'  #static variable    can be used with class method not instance method\n",
        "\n",
        "  def __init__(self,m1,m2,m3):\n",
        "    self.m1=m1   #m1,m2,m3 => instance variables with instance method\n",
        "    self.m2=m2\n",
        "    self.m3=m3\n",
        "\n",
        "  def avg(self):   #instance method as we are passing self to get the object s1 or s2 in this\n",
        "\n",
        "    return (self.m1 + self.m2 + self.m3)/3\n",
        "\n",
        "  # Types of instance methods:\n",
        "  #accessor method: when fetching te instance variable say m2  #--> getters\n",
        "  #mutator method: when want to modify the value of variable say m1  #---> setters\n",
        "\n",
        "  def get_m1(self):   #accessor-->getters\n",
        "    return self.m1\n",
        "\n",
        "  def set_m1(self,value):  #mutator==> setters\\\\\n",
        "    self.m1=value\n",
        "\n",
        "  @classmethod  #to use classmethod need to define as classmethod using DECORATOR\n",
        "  def getschoolname(cls):\n",
        "    return cls.school  #class variable: cls.var\n",
        "\n",
        "  @staticmethod\n",
        "  def info():\n",
        "    print('hello vyoma')\n",
        "    return True\n",
        "\n",
        "s1=students(33,45,67)\n",
        "s2=students(31,65,17)\n",
        "\n",
        "print(s1.avg())\n",
        "print(s2.avg())\n",
        "\n",
        "print(students.getschoolname())\n",
        "\n",
        "print('hi',students.info())\n"
      ],
      "execution_count": null,
      "outputs": [
        {
          "output_type": "stream",
          "text": [
            "48.333333333333336\n",
            "37.666666666666664\n",
            "dewan\n",
            "hello vyoma\n",
            "hi True\n"
          ],
          "name": "stdout"
        }
      ]
    },
    {
      "cell_type": "markdown",
      "source": [
        "## **Encapsulation**"
      ],
      "metadata": {
        "id": "KY0J67IzQk34"
      }
    },
    {
      "cell_type": "code",
      "source": [
        "# Python program to\n",
        "# demonstrate private members\n",
        "\n",
        "# Creating a Base class\n",
        "class Base:\n",
        "    def __init__(self):\n",
        "        self.a = \"GeeksforGeeks\"\n",
        "        self.__c = \"GeeksforGeeks\"\n",
        "\n",
        "# Creating a derived class\n",
        "class Derived(Base):\n",
        "    def __init__(self):\n",
        "\n",
        "        # Calling constructor of\n",
        "        # Base class\n",
        "        Base.__init__(self)\n",
        "        print(\"Calling private member of base class: \")\n",
        "        print(self.__c)\n",
        "\n",
        "\n",
        "# Driver code\n",
        "obj1 = Base()\n",
        "print(obj1.a)\n",
        "\n",
        "# Uncommenting print(obj1.c) will\n",
        "# raise an AttributeError\n",
        "\n",
        "# Uncommenting obj2 = Derived() will\n",
        "# also raise an AtrributeError as\n",
        "# private member of base class\n",
        "# is called inside derived class"
      ],
      "metadata": {
        "id": "ewtxScxWQlVF"
      },
      "execution_count": null,
      "outputs": []
    },
    {
      "cell_type": "markdown",
      "metadata": {
        "id": "neRplgYgf4bW"
      },
      "source": [
        "## **Inner Class**"
      ]
    },
    {
      "cell_type": "markdown",
      "metadata": {
        "id": "m4tbMpGkiAEy"
      },
      "source": [
        "* creating the object of inner class inside the outer class\n",
        "\n",
        "* creating the object of inner class outside the outer class provided you call it using the outer class name"
      ]
    },
    {
      "cell_type": "code",
      "metadata": {
        "colab": {
          "base_uri": "https://localhost:8080/"
        },
        "id": "QPu1Cw_tf35K",
        "outputId": "01bad74b-3535-4455-c474-4fe32e3c9319"
      },
      "source": [
        "class student:\n",
        "  def __init__(self,name,roll):\n",
        "    self.name=name\n",
        "    self.roll=roll\n",
        "    #self.lap=self.laptop()   #object of laptop(inner class) inside outer class\n",
        "\n",
        "  def show(self):\n",
        "    print(self.name,self.roll)\n",
        "\n",
        "  class laptop:    #----INNER CLASS--\n",
        "    def __init__(self):\n",
        "      self.cpu='i5'\n",
        "      self.brand='dell'\n",
        "\n",
        "s1=student('Vyoma',20)\n",
        "s1.show()\n",
        "\n",
        "#s1.lap.brand   #lap is in student class. so object of student =s1, then object of laptop=lap\n",
        "\n",
        "\n",
        "#lap1=s1.lap\n",
        "#lap1.brand\n",
        "\n",
        "\n",
        "#creating object for inner class outside the outer class\n",
        "lap1=student.laptop()\n",
        "lap1.brand\n"
      ],
      "execution_count": null,
      "outputs": [
        {
          "output_type": "stream",
          "text": [
            "Vyoma 20\n"
          ],
          "name": "stdout"
        },
        {
          "output_type": "execute_result",
          "data": {
            "application/vnd.google.colaboratory.intrinsic+json": {
              "type": "string"
            },
            "text/plain": [
              "'dell'"
            ]
          },
          "metadata": {
            "tags": []
          },
          "execution_count": 8
        }
      ]
    },
    {
      "cell_type": "markdown",
      "metadata": {
        "id": "FanwA9GMy0na"
      },
      "source": [
        "we can create another method with the same name"
      ]
    },
    {
      "cell_type": "code",
      "metadata": {
        "colab": {
          "base_uri": "https://localhost:8080/"
        },
        "id": "TwTBC_0pj35M",
        "outputId": "9a4be6d9-1b17-4ca5-f310-235f39d02a14"
      },
      "source": [
        "class student:\n",
        "  def __init__(self,name,roll):\n",
        "    self.name=name\n",
        "    self.roll=roll\n",
        "    self.lap=self.laptop()   #object of laptop(inner class) inside outer class\n",
        "\n",
        "  def show(self):\n",
        "    print(self.name,self.roll)\n",
        "    self.lap.show()\n",
        "\n",
        "  class laptop:    #----INNER CLASS--\n",
        "    def __init__(self):\n",
        "      self.cpu='i5'\n",
        "      self.brand='dell'\n",
        "\n",
        "    def show(self):   #we can create another method with the same name\n",
        "      print(self.brand,self.cpu)\n",
        "\n",
        "s1=student('Vyoma',20)\n",
        "s1.show()\n",
        "\n",
        "#s1.lap.brand   #lap is in student class. so object of student =s1, then object of laptop=lap\n",
        "\n",
        "\n",
        "#lap1=s1.lap\n",
        "#lap1.brand\n",
        "\n",
        "\n",
        "#creating object for inner class outside the outer class\n",
        "#lap1=student.laptop()\n",
        "#lap1.brand\n"
      ],
      "execution_count": null,
      "outputs": [
        {
          "output_type": "stream",
          "text": [
            "Vyoma 20\n",
            "dell i5\n"
          ],
          "name": "stdout"
        }
      ]
    },
    {
      "cell_type": "markdown",
      "metadata": {
        "id": "ZKjsdSNOzYrW"
      },
      "source": [
        "## **Inheritance**\n",
        "\n",
        "using features of existing class"
      ]
    },
    {
      "cell_type": "markdown",
      "metadata": {
        "id": "KSJBaJv01Jip"
      },
      "source": [
        "Single Level"
      ]
    },
    {
      "cell_type": "code",
      "metadata": {
        "colab": {
          "base_uri": "https://localhost:8080/"
        },
        "id": "lK0wkfw7zYzP",
        "outputId": "cbc14fcb-6437-47f2-f80d-7a9e19f35d10"
      },
      "source": [
        "class A:  #---->  Super Class/ Parent Class\n",
        "  def feature1(self):\n",
        "    print('feature1')\n",
        "\n",
        "  def feature2(self):\n",
        "    print('feature2')\n",
        "\n",
        "class B(A):     #--> Sub Class/CHild Class, inherting the methods of A.\n",
        "  def feature3(self):\n",
        "    print('feature3')\n",
        "\n",
        "  def feature4(self):\n",
        "    print('feature4')\n",
        "\n",
        "a1=A()\n",
        "#a1.feature1()\n",
        "\n",
        "b1=B()\n",
        "b1.feature1()"
      ],
      "execution_count": null,
      "outputs": [
        {
          "output_type": "stream",
          "text": [
            "feature1\n"
          ],
          "name": "stdout"
        }
      ]
    },
    {
      "cell_type": "markdown",
      "metadata": {
        "id": "VfYaPRsJ1LJM"
      },
      "source": [
        "Multi level: B inherits A and C inherits B (means of A and B both)"
      ]
    },
    {
      "cell_type": "code",
      "metadata": {
        "colab": {
          "base_uri": "https://localhost:8080/"
        },
        "id": "T1X_1-R20pyy",
        "outputId": "f15e32b8-bbdb-4c11-9d90-413b8ae8177a"
      },
      "source": [
        "class A:  #---->  Super Class/ GrandParent Class\n",
        "  def feature1(self):\n",
        "    print('feature1')\n",
        "\n",
        "  def feature2(self):\n",
        "    print('feature2')\n",
        "\n",
        "class B(A):     #--> Sub Class1/Parent Class, inherting the methods of A.\n",
        "  def feature3(self):\n",
        "    print('feature3')\n",
        "\n",
        "  def feature4(self):\n",
        "    print('feature4')\n",
        "\n",
        "class C(B):  #--> Sub Class2 of super class (parent here--sub class1) /Child Class, inherting the methods of A and B.\n",
        "  def feature5(self):\n",
        "    print('feature5')\n",
        "\n",
        "a1=A()\n",
        "#a1.feature1()\n",
        "\n",
        "b1=B()\n",
        "#b1.feature1()\n",
        "\n",
        "c1=C()\n",
        "c1.feature1()"
      ],
      "execution_count": null,
      "outputs": [
        {
          "output_type": "stream",
          "text": [
            "feature1\n"
          ],
          "name": "stdout"
        }
      ]
    },
    {
      "cell_type": "markdown",
      "metadata": {
        "id": "f3875CR-2A7L"
      },
      "source": [
        "Multiple Inheritance--> C inherting both A and B"
      ]
    },
    {
      "cell_type": "code",
      "metadata": {
        "colab": {
          "base_uri": "https://localhost:8080/"
        },
        "id": "85-IUGuM2BF4",
        "outputId": "9fb68586-7ace-46d9-be75-e44fddf105af"
      },
      "source": [
        "class A:  #---->  Parent Class1\n",
        "  def feature1(self):\n",
        "    print('feature1')\n",
        "\n",
        "  def feature2(self):\n",
        "    print('feature2')\n",
        "\n",
        "class B():     #--> Parent Class2.\n",
        "  def feature3(self):\n",
        "    print('feature3')\n",
        "\n",
        "  def feature4(self):\n",
        "    print('feature4')\n",
        "\n",
        "class C(A,B):  #--> Sub Class of super class(Parent1 and Parent2 )/Child Class, inherting the methods of A and B.\n",
        "  def feature5(self):\n",
        "    print('feature5')\n",
        "\n",
        "a1=A()\n",
        "#a1.feature1()\n",
        "\n",
        "b1=B()\n",
        "b1.feature3()\n",
        "\n",
        "c1=C()\n",
        "c1.feature1()"
      ],
      "execution_count": null,
      "outputs": [
        {
          "output_type": "stream",
          "text": [
            "feature3\n",
            "feature1\n"
          ],
          "name": "stdout"
        }
      ]
    },
    {
      "cell_type": "markdown",
      "metadata": {
        "id": "enIkQaXb3lgY"
      },
      "source": [
        "Constructor in inheritance"
      ]
    },
    {
      "cell_type": "code",
      "metadata": {
        "colab": {
          "base_uri": "https://localhost:8080/"
        },
        "id": "taezZjFF3kus",
        "outputId": "0313a07c-c24f-4eca-8c32-6833b7450c2a"
      },
      "source": [
        "class A:  #---->  Super Class/ Parent Class\n",
        "\n",
        "  def __init__(self):\n",
        "    print('init in A ')\n",
        "\n",
        "  def feature1(self):\n",
        "    print('feature1')\n",
        "\n",
        "  def feature2(self):\n",
        "    print('feature2')\n",
        "\n",
        "class B(A):     #--> Sub Class/CHild Class, inherting the methods of A.\n",
        "  def feature3(self):\n",
        "    print('feature3')\n",
        "\n",
        "  def feature4(self):\n",
        "    print('feature4')\n",
        "\n",
        "#a1=A()\n",
        "#a1.feature1()\n",
        "\n",
        "b1=B()  #object of child class will still call the constructor of parent class\n",
        "        #SINCE IT IS NOT HAVING IT'S init METHOD, THATS WHY IT IS GOING TO A .\n",
        "b1.feature1()"
      ],
      "execution_count": null,
      "outputs": [
        {
          "output_type": "stream",
          "text": [
            "init in A \n",
            "feature1\n"
          ],
          "name": "stdout"
        }
      ]
    },
    {
      "cell_type": "code",
      "metadata": {
        "colab": {
          "base_uri": "https://localhost:8080/"
        },
        "id": "qAFbjFa84Lv2",
        "outputId": "d959772f-bb3d-4d17-b8bd-9dd1a95cb259"
      },
      "source": [
        "class A:  #---->  Super Class/ Parent Class\n",
        "\n",
        "  def __init__(self):\n",
        "    print('init in A ')\n",
        "\n",
        "  def feature1(self):\n",
        "    print('feature1')\n",
        "\n",
        "  def feature2(self):\n",
        "    print('feature2')\n",
        "\n",
        "class B(A):     #--> Sub Class/CHild Class, inherting the methods of A.\n",
        "  def __init__(self):\n",
        "    print('init in B')\n",
        "\n",
        "  def feature3(self):\n",
        "    print('feature3')\n",
        "\n",
        "  def feature4(self):\n",
        "    print('feature4')\n",
        "\n",
        "#a1=A()\n",
        "#a1.feature1()\n",
        "\n",
        "b1=B()  #object of child class will call the constructor of its OWN.\n",
        "b1.feature1()"
      ],
      "execution_count": null,
      "outputs": [
        {
          "output_type": "stream",
          "text": [
            "init in B\n",
            "feature1\n"
          ],
          "name": "stdout"
        }
      ]
    },
    {
      "cell_type": "code",
      "metadata": {
        "colab": {
          "base_uri": "https://localhost:8080/"
        },
        "id": "kk9b0TrP4q9d",
        "outputId": "2111bb2e-73fe-4bac-ad33-f96906079154"
      },
      "source": [
        "class A:  #---->  Super Class/ Parent Class\n",
        "\n",
        "  def __init__(self):\n",
        "    print('init in A ')\n",
        "\n",
        "  def feature1(self):\n",
        "    print('feature1')\n",
        "\n",
        "  def feature2(self):\n",
        "    print('feature2')\n",
        "\n",
        "class B(A):     #--> Sub Class/CHild Class, inherting the methods of A.\n",
        "\n",
        "  def __init__(self):\n",
        "    super().__init__()   #to get the features from super class , we use uper keyword\n",
        "    print('init in B')\n",
        "\n",
        "  def feature3(self):\n",
        "    print('feature3')\n",
        "\n",
        "  def feature4(self):\n",
        "    print('feature4')\n",
        "\n",
        "#a1=A()\n",
        "#a1.feature1()\n",
        "\n",
        "b1=B()  #object of child class will call the constructor of the Super Class and its own.\n",
        "b1.feature1()"
      ],
      "execution_count": null,
      "outputs": [
        {
          "output_type": "stream",
          "text": [
            "init in A \n",
            "init in B\n",
            "feature1\n"
          ],
          "name": "stdout"
        }
      ]
    },
    {
      "cell_type": "markdown",
      "metadata": {
        "id": "ETgj3mzV5REw"
      },
      "source": [
        "Multiple Inheritance:::::::Calling the init of two super classes from the child"
      ]
    },
    {
      "cell_type": "code",
      "metadata": {
        "colab": {
          "base_uri": "https://localhost:8080/"
        },
        "id": "Ot1iHXcb5YF5",
        "outputId": "d54587ed-87f1-4255-837b-f72e30329b0a"
      },
      "source": [
        "class A:  #---->  Super Class/ Parent Class\n",
        "\n",
        "  def __init__(self):\n",
        "    print('init in A ')\n",
        "\n",
        "  def feature1(self):\n",
        "    print('feature1-A')\n",
        "\n",
        "  def feature2(self):\n",
        "    print('feature2')\n",
        "\n",
        "class B():     #--> Sub Class/CHild Class, inherting the methods of A.\n",
        "\n",
        "  def __init__(self):\n",
        "    print('init in B')\n",
        "\n",
        "  def feature1(self):\n",
        "    print('feature1-B')\n",
        "\n",
        "  def feature4(self):\n",
        "    print('feature4')\n",
        "\n",
        "class C(A,B):     #IN MULTIPLE INHERITANCE,,,, it PREFERS FROM Left to Right---> METHOD RESOLUTION ORDER\n",
        "  def __init__(self):\n",
        "    super().__init__()  #will get the init of A ::: biased\n",
        "    super().feature2()   #can other methodds from super class as well\n",
        "    print('init in C ')\n",
        "\n",
        "\n",
        "c1=C()\n",
        "c1.feature1()   #it will go to its left first , that is A."
      ],
      "execution_count": null,
      "outputs": [
        {
          "output_type": "stream",
          "text": [
            "init in A \n",
            "feature2\n",
            "init in C \n",
            "feature1-A\n"
          ],
          "name": "stdout"
        }
      ]
    },
    {
      "cell_type": "markdown",
      "metadata": {
        "id": "nvg1q9QV7Ggo"
      },
      "source": [
        "## **Ploymorphism**:::\n",
        "\n",
        "meaning Many forms\n",
        "\n",
        "\n",
        "\n",
        "*   Duck typing\n",
        "*   Operator Overloading\n",
        "*   Method Overloading\n",
        "*   Method Overriding\n",
        "\n"
      ]
    },
    {
      "cell_type": "markdown",
      "metadata": {
        "id": "x91hxRjt9RHm"
      },
      "source": [
        "Duck typing"
      ]
    },
    {
      "cell_type": "code",
      "metadata": {
        "colab": {
          "base_uri": "https://localhost:8080/"
        },
        "id": "mUeppzmj7GnJ",
        "outputId": "2309cae6-bb75-40f2-d89f-e44873875bc6"
      },
      "source": [
        "#In python we can differnt data types with the same varaible name:\n",
        "#DYNAMIC TYPING\n",
        "x=5\n",
        "x='VYoma'\n",
        "\n",
        "#these will be stored in two differnt memories\n",
        "\n",
        "#same for classes:\n",
        "\n",
        "class Pycharm:\n",
        "  def execute(self):\n",
        "    print('Pycharm')\n",
        "\n",
        "class MyEditor:\n",
        "  def execute(self):    #YoU HAVE TO KEEP THE METHOD NAME SAME , No matter what\n",
        "     print('My editor')\n",
        "\n",
        "class Vyoma:\n",
        "  def code(self, ide):   #passing the object of another class as argument\n",
        "    ide.execute()        #callimg the method of another class\n",
        "\n",
        "\n",
        "#i=Pycharm()   #object of Pycharm class\n",
        "i=MyEditor()   #changing the type of ide(object to call) provided the method names are same\n",
        "\n",
        "vyo= Vyoma()\n",
        "vyo.code(i)    #passing the object of another to another"
      ],
      "execution_count": null,
      "outputs": [
        {
          "output_type": "stream",
          "text": [
            "My editor\n"
          ],
          "name": "stdout"
        }
      ]
    },
    {
      "cell_type": "markdown",
      "metadata": {
        "id": "YHca1072_7ij"
      },
      "source": [
        "Operator Overloading"
      ]
    },
    {
      "cell_type": "code",
      "metadata": {
        "colab": {
          "base_uri": "https://localhost:8080/"
        },
        "id": "PS6SrLw09lHa",
        "outputId": "23dd89d4-5287-4536-b300-02090cd3e044"
      },
      "source": [
        "a=5\n",
        "b=6\n",
        "\n",
        "print(a+b)\n",
        "\n",
        "print(int.__add__(a,b))\n",
        "#int class--> method add behind the scenes\n",
        "\n",
        "\n",
        "class student:\n",
        "  def __init__(self,m1,m2):\n",
        "    self.m1=m1\n",
        "    self.m2=m2\n",
        "\n",
        "  def __add__(self,other):\n",
        "    m1=self.m1 + other.m1\n",
        "    m2=self.m2 + other.m2\n",
        "    p3= student(m1,m2)\n",
        "    return p3\n",
        "\n",
        "\n",
        "s1=student(7,8)\n",
        "s2=student(1,2)\n",
        "\n",
        "s3=s1+s2\n",
        "print(s3.m1)"
      ],
      "execution_count": null,
      "outputs": [
        {
          "output_type": "stream",
          "name": "stdout",
          "text": [
            "11\n",
            "11\n",
            "8\n"
          ]
        }
      ]
    },
    {
      "cell_type": "markdown",
      "metadata": {
        "id": "glD7SiHTFALV"
      },
      "source": [
        "Methods overriding and overloading\n",
        "\n",
        "\n",
        "In python : NO method overloading is there : creating method with same name but with different number of arguments in same class\n",
        "\n",
        "Method overriding: creating method with same name and same number of argumnts but in diffrent class(inheritance mei use hota)\n",
        "\n"
      ]
    },
    {
      "cell_type": "code",
      "metadata": {
        "colab": {
          "base_uri": "https://localhost:8080/"
        },
        "id": "UDG_ITQVFAB6",
        "outputId": "20f649be-5112-48ad-83e1-b94b0f4e5274"
      },
      "source": [
        "                      # (---Method Overloading with tricks---)\n",
        "\n",
        "class Student:\n",
        "\n",
        "    def __init__(self,m1,m2):\n",
        "        self.m1 = m1\n",
        "        self.m2 = m2\n",
        "\n",
        "    def sum(self,a=None,b=None,c=None):\n",
        "\n",
        "      s = 0\n",
        "\n",
        "      if a!=None and b!=None and c!=None:\n",
        "           s = a+b+c\n",
        "      elif a!=None and b!=None:\n",
        "            s = a+b\n",
        "      else:\n",
        "            s = a\n",
        "\n",
        "      return s\n",
        "\n",
        "s1 = Student(58,69)\n",
        "print(s1.sum(5))"
      ],
      "execution_count": null,
      "outputs": [
        {
          "output_type": "stream",
          "text": [
            "5\n"
          ],
          "name": "stdout"
        }
      ]
    },
    {
      "cell_type": "code",
      "metadata": {
        "colab": {
          "base_uri": "https://localhost:8080/"
        },
        "id": "JYaW6SaiIRM6",
        "outputId": "2f43adb6-7987-4ae2-93bb-d3638ca6f6f0"
      },
      "source": [
        "                        #(---Method Overriding---)\n",
        "\n",
        "class A:\n",
        "\n",
        "    def show(self):\n",
        "        print(\"in A Show\")\n",
        "\n",
        "class B(A):\n",
        "\n",
        "    def show(self):   #method with same name and same number of arguments\n",
        "                      #calls method of subclass\n",
        "                      #overrides the show method of A, which it can call because of inheritance\n",
        "        super().show() # calling super class method\n",
        "        print(\"in B Show\")\n",
        "\n",
        "\n",
        "a1 = B()\n",
        "a1.show()"
      ],
      "execution_count": null,
      "outputs": [
        {
          "output_type": "stream",
          "name": "stdout",
          "text": [
            "in A Show\n",
            "in B Show\n"
          ]
        }
      ]
    },
    {
      "cell_type": "markdown",
      "metadata": {
        "id": "p7JXsTexLM7_"
      },
      "source": [
        "## **Abstract class and method**\n",
        "\n",
        "abstract method: no body\n",
        "\n",
        "abstract class:having abstract method with no body,, must have atleast one abstract method\n",
        "\n",
        "\n",
        "but in python we dont have abstract class concept by default,,, we create by using some tricks that is import ABC"
      ]
    },
    {
      "cell_type": "code",
      "metadata": {
        "id": "lmtCrEbUJLjw"
      },
      "source": [
        "#not abstract class yet\n",
        "\n",
        "class vyoma:\n",
        "  def code(self):\n",
        "    pass\n",
        "\n",
        "s=vyoma()\n",
        "s.code()"
      ],
      "execution_count": null,
      "outputs": []
    },
    {
      "cell_type": "markdown",
      "metadata": {
        "id": "kppCChEyMiwE"
      },
      "source": [
        "if you abstract class and you cant get object of it because we have a method which is not defined"
      ]
    },
    {
      "cell_type": "code",
      "metadata": {
        "colab": {
          "base_uri": "https://localhost:8080/",
          "height": 214
        },
        "id": "PpU9qG0UMGYF",
        "outputId": "1259049a-aaf9-463b-c698-336d1fe7f775"
      },
      "source": [
        "from abc import ABC, abstractmethod   #ABC=Abstract Base Class\n",
        "class vyoma(ABC):   #just decalared\n",
        "  @abstractmethod\n",
        "  def code(self):\n",
        "    pass\n",
        "\n",
        "s=vyoma()\n",
        "s.code()\n"
      ],
      "execution_count": null,
      "outputs": [
        {
          "output_type": "error",
          "ename": "TypeError",
          "evalue": "ignored",
          "traceback": [
            "\u001b[0;31m---------------------------------------------------------------------------\u001b[0m",
            "\u001b[0;31mTypeError\u001b[0m                                 Traceback (most recent call last)",
            "\u001b[0;32m<ipython-input-48-7de0d01825d6>\u001b[0m in \u001b[0;36m<module>\u001b[0;34m()\u001b[0m\n\u001b[1;32m      5\u001b[0m     \u001b[0;32mpass\u001b[0m\u001b[0;34m\u001b[0m\u001b[0;34m\u001b[0m\u001b[0m\n\u001b[1;32m      6\u001b[0m \u001b[0;34m\u001b[0m\u001b[0m\n\u001b[0;32m----> 7\u001b[0;31m \u001b[0ms\u001b[0m\u001b[0;34m=\u001b[0m\u001b[0mvyoma\u001b[0m\u001b[0;34m(\u001b[0m\u001b[0;34m)\u001b[0m\u001b[0;34m\u001b[0m\u001b[0;34m\u001b[0m\u001b[0m\n\u001b[0m\u001b[1;32m      8\u001b[0m \u001b[0ms\u001b[0m\u001b[0;34m.\u001b[0m\u001b[0mcode\u001b[0m\u001b[0;34m(\u001b[0m\u001b[0;34m)\u001b[0m\u001b[0;34m\u001b[0m\u001b[0;34m\u001b[0m\u001b[0m\n",
            "\u001b[0;31mTypeError\u001b[0m: Can't instantiate abstract class vyoma with abstract methods code"
          ]
        }
      ]
    },
    {
      "cell_type": "code",
      "metadata": {
        "colab": {
          "base_uri": "https://localhost:8080/"
        },
        "id": "GTCwy-KDM4Y_",
        "outputId": "bcb0da34-e673-4334-d206-16b6e036c1bb"
      },
      "source": [
        "from abc import ABC, abstractmethod   #ABC=Abstract Base Class\n",
        "class vyoma(ABC):   #just decalared\n",
        "  @abstractmethod\n",
        "  def code(self):\n",
        "    pass\n",
        "\n",
        "class another(vyoma):\n",
        "  def code(self):\n",
        "    print(7)\n",
        "\n",
        "#s=vyoma()\n",
        "p=another() #compulsory to define the method named as code , otherwise it is still abstract and object cnt be created\n",
        "p.code()\n"
      ],
      "execution_count": null,
      "outputs": [
        {
          "output_type": "stream",
          "text": [
            "7\n"
          ],
          "name": "stdout"
        }
      ]
    }
  ]
}