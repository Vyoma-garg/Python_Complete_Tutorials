{
  "nbformat": 4,
  "nbformat_minor": 0,
  "metadata": {
    "colab": {
      "provenance": []
    },
    "kernelspec": {
      "name": "python3",
      "display_name": "Python 3"
    },
    "language_info": {
      "name": "python"
    }
  },
  "cells": [
    {
      "cell_type": "markdown",
      "metadata": {
        "id": "9eprknN8oy9x"
      },
      "source": [
        "lambda,sorted"
      ]
    },
    {
      "cell_type": "code",
      "metadata": {
        "colab": {
          "base_uri": "https://localhost:8080/"
        },
        "id": "PFIeYDgmYGNh",
        "outputId": "10d15e46-2ba0-4ccf-ecf4-cfc76a970698"
      },
      "source": [
        "ll=[['z',56,'hi'],['b',2,'te'],['c',666,'yu']]\n",
        "print(ll[-1])\n",
        "\n",
        "kkey=lambda x: x[-1]\n",
        "\n",
        "print(kkey(ll))\n",
        "\n",
        "sorted(ll)\n",
        "\n",
        "sorted(ll, key= lambda y: y[-1])"
      ],
      "execution_count": null,
      "outputs": [
        {
          "output_type": "stream",
          "text": [
            "['c', 666, 'yu']\n",
            "['c', 666, 'yu']\n"
          ],
          "name": "stdout"
        },
        {
          "output_type": "execute_result",
          "data": {
            "text/plain": [
              "[['z', 56, 'hi'], ['b', 2, 'te'], ['c', 666, 'yu']]"
            ]
          },
          "metadata": {
            "tags": []
          },
          "execution_count": 35
        }
      ]
    },
    {
      "cell_type": "markdown",
      "metadata": {
        "id": "B2WlvlOfo3RE"
      },
      "source": [
        "# **writing in text, json file**"
      ]
    },
    {
      "cell_type": "code",
      "metadata": {
        "id": "oFWD-LkJcoSA"
      },
      "source": [
        "with open('test.txt', 'w') as fp:\n",
        "    fp.write(\"Hello World\")"
      ],
      "execution_count": null,
      "outputs": []
    },
    {
      "cell_type": "code",
      "metadata": {
        "id": "PZPdxEDVdHzw"
      },
      "source": [
        "def square(n):\n",
        "    return n**2"
      ],
      "execution_count": null,
      "outputs": []
    },
    {
      "cell_type": "code",
      "metadata": {
        "id": "c2_lP6zfdDcN"
      },
      "source": [
        "with open('test_1.txt', 'w') as fp:\n",
        "    fp.write(str(square(5)) + \"\\n\" + str(square(3)))  #always takes in string"
      ],
      "execution_count": null,
      "outputs": []
    },
    {
      "cell_type": "code",
      "metadata": {
        "colab": {
          "base_uri": "https://localhost:8080/"
        },
        "id": "yzDYUf4bdu-5",
        "outputId": "9c703a3f-6411-4527-d00c-066acbe947c8"
      },
      "source": [
        "a = [1,2,3,4,5]\n",
        "b = \"\"\n",
        "\n",
        "for each_element in a:\n",
        "    b = b + \"\\n\" + str(square(each_element))\n",
        "b = b.strip()\n",
        "print(b)"
      ],
      "execution_count": null,
      "outputs": [
        {
          "output_type": "stream",
          "text": [
            "1\n",
            "4\n",
            "9\n",
            "16\n",
            "25\n"
          ],
          "name": "stdout"
        }
      ]
    },
    {
      "cell_type": "code",
      "metadata": {
        "id": "fiLKNQBtoQEa"
      },
      "source": [
        "import json"
      ],
      "execution_count": null,
      "outputs": []
    },
    {
      "cell_type": "code",
      "metadata": {
        "id": "9hU6_bmEoWNM"
      },
      "source": [
        "example = {\n",
        "    'Abhiram' : \"CSE\",\n",
        "    'Rohan' : 'EE',\n",
        "    'Deep' : 'MA',\n",
        "    'Vyoma' : 'MA',\n",
        "}"
      ],
      "execution_count": null,
      "outputs": []
    },
    {
      "cell_type": "code",
      "metadata": {
        "id": "37Dao5r1oM3B"
      },
      "source": [
        "with open('test_3.json','w') as fp:\n",
        "    json.dump(example, fp)"
      ],
      "execution_count": null,
      "outputs": []
    },
    {
      "cell_type": "code",
      "metadata": {
        "colab": {
          "base_uri": "https://localhost:8080/"
        },
        "id": "pM57gLxloeiU",
        "outputId": "5256ff18-8491-45b1-d163-dcf1c11f2180"
      },
      "source": [
        "with open('test_3.json', 'r') as fp:\n",
        "    data = json.load(fp)\n",
        "\n",
        "print(data)"
      ],
      "execution_count": null,
      "outputs": [
        {
          "output_type": "stream",
          "text": [
            "{'Abhiram': 'CSE', 'Rohan': 'EE', 'Deep': 'MA', 'Vyoma': 'MA'}\n"
          ],
          "name": "stdout"
        }
      ]
    },
    {
      "cell_type": "markdown",
      "metadata": {
        "id": "b6e0xqOsf65R"
      },
      "source": [
        "# **String**\n",
        " immutable"
      ]
    },
    {
      "cell_type": "code",
      "metadata": {
        "colab": {
          "base_uri": "https://localhost:8080/",
          "height": 35
        },
        "id": "Hf3-o29ewcUQ",
        "outputId": "d45b8c44-b302-4b54-cd80-5d3ff7a31d12"
      },
      "source": [
        "s='vyoma'+'vyoma'\n",
        "s"
      ],
      "execution_count": null,
      "outputs": [
        {
          "output_type": "execute_result",
          "data": {
            "application/vnd.google.colaboratory.intrinsic+json": {
              "type": "string"
            },
            "text/plain": [
              "'vyomavyoma'"
            ]
          },
          "metadata": {
            "tags": []
          },
          "execution_count": 1
        }
      ]
    },
    {
      "cell_type": "code",
      "metadata": {
        "colab": {
          "base_uri": "https://localhost:8080/",
          "height": 35
        },
        "id": "Ed7_Wy6twpyr",
        "outputId": "3d130adc-b8c2-4393-861a-e82a4c85dc1d"
      },
      "source": [
        "s=10* 'vyoma'\n",
        "s"
      ],
      "execution_count": null,
      "outputs": [
        {
          "output_type": "execute_result",
          "data": {
            "application/vnd.google.colaboratory.intrinsic+json": {
              "type": "string"
            },
            "text/plain": [
              "'vyomavyomavyomavyomavyomavyomavyomavyomavyomavyoma'"
            ]
          },
          "metadata": {
            "tags": []
          },
          "execution_count": 2
        }
      ]
    },
    {
      "cell_type": "code",
      "metadata": {
        "colab": {
          "base_uri": "https://localhost:8080/",
          "height": 35
        },
        "id": "mjgJCW97wv0g",
        "outputId": "66fe9ecc-d748-4b9a-fe5e-970256ac0376"
      },
      "source": [
        "s='vyoma\\'s laptop'  #\\ removes the org meaning of the ' in between\n",
        "s"
      ],
      "execution_count": null,
      "outputs": [
        {
          "output_type": "execute_result",
          "data": {
            "application/vnd.google.colaboratory.intrinsic+json": {
              "type": "string"
            },
            "text/plain": [
              "\"vyoma's laptop\""
            ]
          },
          "metadata": {
            "tags": []
          },
          "execution_count": 3
        }
      ]
    },
    {
      "cell_type": "code",
      "metadata": {
        "colab": {
          "base_uri": "https://localhost:8080/",
          "height": 35
        },
        "id": "DejNmwy3xSzn",
        "outputId": "a91e1379-3fab-44e7-c900-6a9902214018"
      },
      "source": [
        "s='c:\\docs\\new'\n",
        "s"
      ],
      "execution_count": null,
      "outputs": [
        {
          "output_type": "execute_result",
          "data": {
            "application/vnd.google.colaboratory.intrinsic+json": {
              "type": "string"
            },
            "text/plain": [
              "'c:\\\\docs\\new'"
            ]
          },
          "metadata": {
            "tags": []
          },
          "execution_count": 4
        }
      ]
    },
    {
      "cell_type": "code",
      "metadata": {
        "colab": {
          "base_uri": "https://localhost:8080/",
          "height": 35
        },
        "id": "tlssKCB_yJCq",
        "outputId": "0d11b0c3-3403-4b0e-aea2-e5644935abc9"
      },
      "source": [
        "s='c \\nseeeee'\n",
        "s"
      ],
      "execution_count": null,
      "outputs": [
        {
          "output_type": "execute_result",
          "data": {
            "application/vnd.google.colaboratory.intrinsic+json": {
              "type": "string"
            },
            "text/plain": [
              "'c \\nseeeee'"
            ]
          },
          "metadata": {
            "tags": []
          },
          "execution_count": 11
        }
      ]
    },
    {
      "cell_type": "code",
      "metadata": {
        "colab": {
          "base_uri": "https://localhost:8080/"
        },
        "id": "5tRAWs4J1NFr",
        "outputId": "33e80e95-d308-4ba1-91d3-ea98390ce73d"
      },
      "source": [
        "x=3\n",
        "3+x"
      ],
      "execution_count": null,
      "outputs": [
        {
          "output_type": "execute_result",
          "data": {
            "text/plain": [
              "6"
            ]
          },
          "metadata": {
            "tags": []
          },
          "execution_count": 12
        }
      ]
    },
    {
      "cell_type": "code",
      "metadata": {
        "colab": {
          "base_uri": "https://localhost:8080/"
        },
        "id": "Z9ZJw4eb1Qgk",
        "outputId": "26df69f8-6acd-4917-aa06-206a6d211404"
      },
      "source": [
        "_+8  #_ =output of previous operation"
      ],
      "execution_count": null,
      "outputs": [
        {
          "output_type": "execute_result",
          "data": {
            "text/plain": [
              "14"
            ]
          },
          "metadata": {
            "tags": []
          },
          "execution_count": 13
        }
      ]
    },
    {
      "cell_type": "code",
      "metadata": {
        "colab": {
          "base_uri": "https://localhost:8080/",
          "height": 35
        },
        "id": "a1txZ3Pq2NHg",
        "outputId": "13e4d7d7-2075-46fc-def7-c5fec02d081e"
      },
      "source": [
        "s='vyoma'  #0,1,2,3,4\n",
        "s[3]"
      ],
      "execution_count": null,
      "outputs": [
        {
          "output_type": "execute_result",
          "data": {
            "application/vnd.google.colaboratory.intrinsic+json": {
              "type": "string"
            },
            "text/plain": [
              "'m'"
            ]
          },
          "metadata": {
            "tags": []
          },
          "execution_count": 15
        }
      ]
    },
    {
      "cell_type": "code",
      "metadata": {
        "colab": {
          "base_uri": "https://localhost:8080/",
          "height": 35
        },
        "id": "VwCl8NrQ2TO-",
        "outputId": "fa48084e-cc86-4e19-ffb8-183cc9f55cb5"
      },
      "source": [
        "s[3:]"
      ],
      "execution_count": null,
      "outputs": [
        {
          "output_type": "execute_result",
          "data": {
            "application/vnd.google.colaboratory.intrinsic+json": {
              "type": "string"
            },
            "text/plain": [
              "'ma'"
            ]
          },
          "metadata": {
            "tags": []
          },
          "execution_count": 16
        }
      ]
    },
    {
      "cell_type": "code",
      "metadata": {
        "colab": {
          "base_uri": "https://localhost:8080/",
          "height": 167
        },
        "id": "puvQrVSe2Wp6",
        "outputId": "9777cf93-75bb-438f-97b1-a025a9a7760f"
      },
      "source": [
        "s[0]='m'   #in python strings are immutable: cannot change value once assigned"
      ],
      "execution_count": null,
      "outputs": [
        {
          "output_type": "error",
          "ename": "TypeError",
          "evalue": "ignored",
          "traceback": [
            "\u001b[0;31m---------------------------------------------------------------------------\u001b[0m",
            "\u001b[0;31mTypeError\u001b[0m                                 Traceback (most recent call last)",
            "\u001b[0;32m<ipython-input-17-0f745458a23d>\u001b[0m in \u001b[0;36m<module>\u001b[0;34m()\u001b[0m\n\u001b[0;32m----> 1\u001b[0;31m \u001b[0ms\u001b[0m\u001b[0;34m[\u001b[0m\u001b[0;36m0\u001b[0m\u001b[0;34m]\u001b[0m\u001b[0;34m=\u001b[0m\u001b[0;34m'm'\u001b[0m\u001b[0;34m\u001b[0m\u001b[0;34m\u001b[0m\u001b[0m\n\u001b[0m",
            "\u001b[0;31mTypeError\u001b[0m: 'str' object does not support item assignment"
          ]
        }
      ]
    },
    {
      "cell_type": "code",
      "metadata": {
        "colab": {
          "base_uri": "https://localhost:8080/",
          "height": 35
        },
        "id": "aS-GNb9Z2nYg",
        "outputId": "d2f9efdd-dc24-4eed-9a85-6b6312aae989"
      },
      "source": [
        "'my ' +' name ' +'is '+ s[3:]"
      ],
      "execution_count": null,
      "outputs": [
        {
          "output_type": "execute_result",
          "data": {
            "application/vnd.google.colaboratory.intrinsic+json": {
              "type": "string"
            },
            "text/plain": [
              "'my  name is ma'"
            ]
          },
          "metadata": {
            "tags": []
          },
          "execution_count": 18
        }
      ]
    },
    {
      "cell_type": "markdown",
      "metadata": {
        "id": "WkQ5Iwxp5GEn"
      },
      "source": [
        "# **List**\n",
        "* They are mutable(can be changed)\n",
        "* Different datatypes can be entered in a single list"
      ]
    },
    {
      "cell_type": "code",
      "metadata": {
        "colab": {
          "base_uri": "https://localhost:8080/"
        },
        "id": "-KC0YPAI4BoA",
        "outputId": "3622ec57-1d66-4faf-b1e1-3b2a4366a2bb"
      },
      "source": [
        "nums=[1,2,3,4,5,6]\n",
        "nums.append(45)   #at last\n",
        "nums.insert(2,56)  #index, element\n",
        "nums"
      ],
      "execution_count": null,
      "outputs": [
        {
          "output_type": "execute_result",
          "data": {
            "text/plain": [
              "[1, 2, 56, 3, 4, 5, 6, 45]"
            ]
          },
          "metadata": {
            "tags": []
          },
          "execution_count": 20
        }
      ]
    },
    {
      "cell_type": "code",
      "metadata": {
        "colab": {
          "base_uri": "https://localhost:8080/"
        },
        "id": "MoLYLK-94M_X",
        "outputId": "8f1ef88c-7b68-4681-9c0c-f34dac5bd64b"
      },
      "source": [
        "nums.remove(4)  #specify the element to be removed\n",
        "nums"
      ],
      "execution_count": null,
      "outputs": [
        {
          "output_type": "execute_result",
          "data": {
            "text/plain": [
              "[1, 2, 56, 3, 6, 45]"
            ]
          },
          "metadata": {
            "tags": []
          },
          "execution_count": 23
        }
      ]
    },
    {
      "cell_type": "code",
      "metadata": {
        "colab": {
          "base_uri": "https://localhost:8080/"
        },
        "id": "qYv8rRcR4S-h",
        "outputId": "f35c027d-4ebd-4d92-a8c3-881b5698049c"
      },
      "source": [
        "nums.pop()  #when not specified, last one like stack"
      ],
      "execution_count": null,
      "outputs": [
        {
          "output_type": "execute_result",
          "data": {
            "text/plain": [
              "45"
            ]
          },
          "metadata": {
            "tags": []
          },
          "execution_count": 24
        }
      ]
    },
    {
      "cell_type": "code",
      "metadata": {
        "colab": {
          "base_uri": "https://localhost:8080/"
        },
        "id": "68EfLYic4V7p",
        "outputId": "da48e168-edd2-481d-caf7-ad05aaef7a17"
      },
      "source": [
        "nums.pop(1)  #at index"
      ],
      "execution_count": null,
      "outputs": [
        {
          "output_type": "execute_result",
          "data": {
            "text/plain": [
              "2"
            ]
          },
          "metadata": {
            "tags": []
          },
          "execution_count": 25
        }
      ]
    },
    {
      "cell_type": "code",
      "metadata": {
        "colab": {
          "base_uri": "https://localhost:8080/"
        },
        "id": "Va-Pk2SM4lBQ",
        "outputId": "8c51099e-ca7c-4c08-8194-8d4855f65d0d"
      },
      "source": [
        "nums.extend([45,56,78])\n",
        "nums"
      ],
      "execution_count": null,
      "outputs": [
        {
          "output_type": "execute_result",
          "data": {
            "text/plain": [
              "[1, 56, 3, 6, 45, 56, 78]"
            ]
          },
          "metadata": {
            "tags": []
          },
          "execution_count": 26
        }
      ]
    },
    {
      "cell_type": "code",
      "metadata": {
        "colab": {
          "base_uri": "https://localhost:8080/"
        },
        "id": "9vr6vjtz4rdr",
        "outputId": "6eee9116-c134-4595-89a1-07b88b756104"
      },
      "source": [
        "del nums[2:4]  #2,3\n",
        "nums"
      ],
      "execution_count": null,
      "outputs": [
        {
          "output_type": "execute_result",
          "data": {
            "text/plain": [
              "[1, 56, 45, 56, 78]"
            ]
          },
          "metadata": {
            "tags": []
          },
          "execution_count": 27
        }
      ]
    },
    {
      "cell_type": "code",
      "metadata": {
        "colab": {
          "base_uri": "https://localhost:8080/"
        },
        "id": "WfiAZqkf43ss",
        "outputId": "dd429dd0-9fb1-4c60-cb2a-5caa19326f06"
      },
      "source": [
        "min(nums)"
      ],
      "execution_count": null,
      "outputs": [
        {
          "output_type": "execute_result",
          "data": {
            "text/plain": [
              "1"
            ]
          },
          "metadata": {
            "tags": []
          },
          "execution_count": 28
        }
      ]
    },
    {
      "cell_type": "code",
      "metadata": {
        "colab": {
          "base_uri": "https://localhost:8080/"
        },
        "id": "CUAiZER345dF",
        "outputId": "db8cb84c-f0fd-485c-954a-d4462121e5c3"
      },
      "source": [
        "max(nums)"
      ],
      "execution_count": null,
      "outputs": [
        {
          "output_type": "execute_result",
          "data": {
            "text/plain": [
              "78"
            ]
          },
          "metadata": {
            "tags": []
          },
          "execution_count": 29
        }
      ]
    },
    {
      "cell_type": "code",
      "metadata": {
        "colab": {
          "base_uri": "https://localhost:8080/"
        },
        "id": "W8LzJW5w46ja",
        "outputId": "1df8c96b-7d90-43bd-b26d-2c5aaae9c70a"
      },
      "source": [
        "sum(nums)"
      ],
      "execution_count": null,
      "outputs": [
        {
          "output_type": "execute_result",
          "data": {
            "text/plain": [
              "236"
            ]
          },
          "metadata": {
            "tags": []
          },
          "execution_count": 30
        }
      ]
    },
    {
      "cell_type": "code",
      "metadata": {
        "colab": {
          "base_uri": "https://localhost:8080/"
        },
        "id": "sLEJWWnf49Tz",
        "outputId": "ce96f1d3-f8ca-4a76-db30-d2ab60802155"
      },
      "source": [
        "nums.sort()\n",
        "nums"
      ],
      "execution_count": null,
      "outputs": [
        {
          "output_type": "execute_result",
          "data": {
            "text/plain": [
              "[1, 45, 56, 56, 78]"
            ]
          },
          "metadata": {
            "tags": []
          },
          "execution_count": 32
        }
      ]
    },
    {
      "cell_type": "markdown",
      "metadata": {
        "id": "wtUYzHd95d0a"
      },
      "source": [
        "# **Tuple**\n",
        "IMMUTABLE and faster than LIST"
      ]
    },
    {
      "cell_type": "code",
      "metadata": {
        "colab": {
          "base_uri": "https://localhost:8080/"
        },
        "id": "7hB1EkIj5f3p",
        "outputId": "b34007ba-2948-430c-f1c0-c21044dbdcbd"
      },
      "source": [
        "tup=(1,2,3,4,4,5)\n",
        "tup.count(4)"
      ],
      "execution_count": null,
      "outputs": [
        {
          "output_type": "execute_result",
          "data": {
            "text/plain": [
              "2"
            ]
          },
          "metadata": {
            "tags": []
          },
          "execution_count": 1
        }
      ]
    },
    {
      "cell_type": "code",
      "metadata": {
        "colab": {
          "base_uri": "https://localhost:8080/"
        },
        "id": "-cjn-ZGmd_bX",
        "outputId": "60865d49-bbed-487f-e1c5-de18798f38fd"
      },
      "source": [
        "tup.index(3)"
      ],
      "execution_count": null,
      "outputs": [
        {
          "output_type": "execute_result",
          "data": {
            "text/plain": [
              "2"
            ]
          },
          "metadata": {
            "tags": []
          },
          "execution_count": 2
        }
      ]
    },
    {
      "cell_type": "code",
      "metadata": {
        "colab": {
          "base_uri": "https://localhost:8080/",
          "height": 167
        },
        "id": "NpTjzVIxeJuD",
        "outputId": "2e95e31c-8286-4dcf-d14b-1b6d0ad4acf4"
      },
      "source": [
        "tup[2]=9\n"
      ],
      "execution_count": null,
      "outputs": [
        {
          "output_type": "error",
          "ename": "TypeError",
          "evalue": "ignored",
          "traceback": [
            "\u001b[0;31m---------------------------------------------------------------------------\u001b[0m",
            "\u001b[0;31mTypeError\u001b[0m                                 Traceback (most recent call last)",
            "\u001b[0;32m<ipython-input-4-c765daa2f356>\u001b[0m in \u001b[0;36m<module>\u001b[0;34m()\u001b[0m\n\u001b[0;32m----> 1\u001b[0;31m \u001b[0mtup\u001b[0m\u001b[0;34m[\u001b[0m\u001b[0;36m2\u001b[0m\u001b[0;34m]\u001b[0m\u001b[0;34m=\u001b[0m\u001b[0;36m9\u001b[0m\u001b[0;34m\u001b[0m\u001b[0;34m\u001b[0m\u001b[0m\n\u001b[0m",
            "\u001b[0;31mTypeError\u001b[0m: 'tuple' object does not support item assignment"
          ]
        }
      ]
    },
    {
      "cell_type": "code",
      "metadata": {
        "colab": {
          "base_uri": "https://localhost:8080/"
        },
        "id": "NPbpYzrd5gE0",
        "outputId": "8f15c0bd-5582-4784-b63c-8baf60583235"
      },
      "source": [
        "tup[1]"
      ],
      "execution_count": null,
      "outputs": [
        {
          "output_type": "execute_result",
          "data": {
            "text/plain": [
              "2"
            ]
          },
          "metadata": {
            "tags": []
          },
          "execution_count": 3
        }
      ]
    },
    {
      "cell_type": "markdown",
      "metadata": {
        "id": "dpPjfpZueX81"
      },
      "source": [
        "# **Set**\n",
        "--> just like hash: very fast -->does not follow any sequence and give out unique elements\n",
        "\n",
        "No indexing: since no specific sequence"
      ]
    },
    {
      "cell_type": "code",
      "metadata": {
        "colab": {
          "base_uri": "https://localhost:8080/"
        },
        "id": "aqD4hR8beYFO",
        "outputId": "eb3729b7-a583-4140-d27f-2895dff8a51f"
      },
      "source": [
        "s={2,2,3,67,54,34,67,33}\n",
        "s"
      ],
      "execution_count": null,
      "outputs": [
        {
          "output_type": "execute_result",
          "data": {
            "text/plain": [
              "{2, 3, 33, 34, 54, 67}"
            ]
          },
          "metadata": {},
          "execution_count": 1
        }
      ]
    },
    {
      "cell_type": "code",
      "source": [
        "#s[0] can not use\n",
        "\n",
        "for i in s:\n",
        "  print(i)"
      ],
      "metadata": {
        "colab": {
          "base_uri": "https://localhost:8080/"
        },
        "id": "F1I2bf0LAnrj",
        "outputId": "66e18185-c1fd-48c6-d6dc-3716abbc5076"
      },
      "execution_count": null,
      "outputs": [
        {
          "output_type": "stream",
          "name": "stdout",
          "text": [
            "33\n",
            "2\n",
            "67\n",
            "3\n",
            "34\n",
            "54\n"
          ]
        }
      ]
    },
    {
      "cell_type": "markdown",
      "metadata": {
        "id": "89SGk1_tRCoz"
      },
      "source": [
        "# **Dictionary**"
      ]
    },
    {
      "cell_type": "code",
      "metadata": {
        "colab": {
          "base_uri": "https://localhost:8080/"
        },
        "id": "1B2uBKldREN1",
        "outputId": "35768986-3d56-485e-fb69-5701dd4086a9"
      },
      "source": [
        "d={'Vyoma':{'Bday':'Oct','Leisure':'Painting'},'Deep':['Dec','Sleep']}\n",
        "print(d.get('Vyoma'))\n",
        "print(d['Deep'])  #accessed only by keys\n",
        "print(d['Deep'][0])  #List\n",
        "print(d['Vyoma']['Bday']) #dict\n",
        "\n",
        "keys=[1,2,3]\n",
        "values=['Vyoma','Deep','Shikhar']\n",
        "d2=dict(zip(keys,values))\n",
        "d2"
      ],
      "execution_count": null,
      "outputs": [
        {
          "output_type": "stream",
          "text": [
            "{'Bday': 'Oct', 'Leisure': 'Painting'}\n",
            "['Dec', 'Sleep']\n",
            "Dec\n",
            "Oct\n"
          ],
          "name": "stdout"
        },
        {
          "output_type": "execute_result",
          "data": {
            "text/plain": [
              "{1: 'Vyoma', 2: 'Deep', 3: 'Shikhar'}"
            ]
          },
          "metadata": {
            "tags": []
          },
          "execution_count": 8
        }
      ]
    },
    {
      "cell_type": "code",
      "metadata": {
        "colab": {
          "base_uri": "https://localhost:8080/"
        },
        "id": "G07kUHfUWyhb",
        "outputId": "3158b72a-cdf9-4a21-965e-17e8ddcf87fd"
      },
      "source": [
        "x=5\n",
        "id(x) 3---> address\n",
        "\n",
        "#python cnt make variables constant\n"
      ],
      "execution_count": null,
      "outputs": [
        {
          "output_type": "execute_result",
          "data": {
            "text/plain": [
              "94793761585792"
            ]
          },
          "metadata": {
            "tags": []
          },
          "execution_count": 9
        }
      ]
    },
    {
      "cell_type": "markdown",
      "metadata": {
        "id": "oNctBNI1XE75"
      },
      "source": [
        "# **Datatypes**"
      ]
    },
    {
      "cell_type": "code",
      "metadata": {
        "colab": {
          "base_uri": "https://localhost:8080/"
        },
        "id": "XLo5HbygXIoB",
        "outputId": "5c87615d-a12c-4857-c302-af82223d903f"
      },
      "source": [
        "x=5.0\n",
        "print(type(x))\n",
        "y=5+8j\n",
        "print(type(y))\n",
        "#none, numeric(int,float,complex,bool),list,tuple,set,dict,range,string"
      ],
      "execution_count": null,
      "outputs": [
        {
          "output_type": "stream",
          "text": [
            "<class 'float'>\n",
            "<class 'complex'>\n"
          ],
          "name": "stdout"
        }
      ]
    },
    {
      "cell_type": "markdown",
      "metadata": {
        "id": "ZSHQxPIUYgyv"
      },
      "source": [
        "# **Operators**"
      ]
    },
    {
      "cell_type": "code",
      "metadata": {
        "id": "jAYGpVNFYj3e"
      },
      "source": [],
      "execution_count": null,
      "outputs": []
    },
    {
      "cell_type": "markdown",
      "metadata": {
        "id": "0B_qILgxf2d5"
      },
      "source": [
        "# **Math Functions**"
      ]
    },
    {
      "cell_type": "code",
      "metadata": {
        "colab": {
          "base_uri": "https://localhost:8080/"
        },
        "id": "3Qc49o-3f48l",
        "outputId": "0df3d81f-3122-4eaa-fcd8-0807f34900a4"
      },
      "source": [
        "import math as m\n",
        "print(m.sqrt(49))\n",
        "print(m.pow(8,3))\n",
        "print(m.sin(0.5))"
      ],
      "execution_count": null,
      "outputs": [
        {
          "output_type": "stream",
          "text": [
            "7.0\n",
            "512.0\n",
            "0.479425538604203\n"
          ],
          "name": "stdout"
        }
      ]
    },
    {
      "cell_type": "code",
      "metadata": {
        "colab": {
          "base_uri": "https://localhost:8080/"
        },
        "id": "DAyzq1vSgfu8",
        "outputId": "5fdb6b56-0c86-4f71-b8b5-ee3759768ab8"
      },
      "source": [
        "from math import pow\n",
        "pow(8,3)"
      ],
      "execution_count": null,
      "outputs": [
        {
          "output_type": "execute_result",
          "data": {
            "text/plain": [
              "512.0"
            ]
          },
          "metadata": {
            "tags": []
          },
          "execution_count": 15
        }
      ]
    },
    {
      "cell_type": "code",
      "metadata": {
        "colab": {
          "base_uri": "https://localhost:8080/"
        },
        "id": "POcU8khBgn2N",
        "outputId": "f3c94aa5-8ddf-463a-ed27-1b6ee9486483"
      },
      "source": [
        "help('math')"
      ],
      "execution_count": null,
      "outputs": [
        {
          "output_type": "stream",
          "text": [
            "Help on built-in module math:\n",
            "\n",
            "NAME\n",
            "    math\n",
            "\n",
            "DESCRIPTION\n",
            "    This module provides access to the mathematical functions\n",
            "    defined by the C standard.\n",
            "\n",
            "FUNCTIONS\n",
            "    acos(x, /)\n",
            "        Return the arc cosine (measured in radians) of x.\n",
            "    \n",
            "    acosh(x, /)\n",
            "        Return the inverse hyperbolic cosine of x.\n",
            "    \n",
            "    asin(x, /)\n",
            "        Return the arc sine (measured in radians) of x.\n",
            "    \n",
            "    asinh(x, /)\n",
            "        Return the inverse hyperbolic sine of x.\n",
            "    \n",
            "    atan(x, /)\n",
            "        Return the arc tangent (measured in radians) of x.\n",
            "    \n",
            "    atan2(y, x, /)\n",
            "        Return the arc tangent (measured in radians) of y/x.\n",
            "        \n",
            "        Unlike atan(y/x), the signs of both x and y are considered.\n",
            "    \n",
            "    atanh(x, /)\n",
            "        Return the inverse hyperbolic tangent of x.\n",
            "    \n",
            "    ceil(x, /)\n",
            "        Return the ceiling of x as an Integral.\n",
            "        \n",
            "        This is the smallest integer >= x.\n",
            "    \n",
            "    copysign(x, y, /)\n",
            "        Return a float with the magnitude (absolute value) of x but the sign of y.\n",
            "        \n",
            "        On platforms that support signed zeros, copysign(1.0, -0.0)\n",
            "        returns -1.0.\n",
            "    \n",
            "    cos(x, /)\n",
            "        Return the cosine of x (measured in radians).\n",
            "    \n",
            "    cosh(x, /)\n",
            "        Return the hyperbolic cosine of x.\n",
            "    \n",
            "    degrees(x, /)\n",
            "        Convert angle x from radians to degrees.\n",
            "    \n",
            "    erf(x, /)\n",
            "        Error function at x.\n",
            "    \n",
            "    erfc(x, /)\n",
            "        Complementary error function at x.\n",
            "    \n",
            "    exp(x, /)\n",
            "        Return e raised to the power of x.\n",
            "    \n",
            "    expm1(x, /)\n",
            "        Return exp(x)-1.\n",
            "        \n",
            "        This function avoids the loss of precision involved in the direct evaluation of exp(x)-1 for small x.\n",
            "    \n",
            "    fabs(x, /)\n",
            "        Return the absolute value of the float x.\n",
            "    \n",
            "    factorial(x, /)\n",
            "        Find x!.\n",
            "        \n",
            "        Raise a ValueError if x is negative or non-integral.\n",
            "    \n",
            "    floor(x, /)\n",
            "        Return the floor of x as an Integral.\n",
            "        \n",
            "        This is the largest integer <= x.\n",
            "    \n",
            "    fmod(x, y, /)\n",
            "        Return fmod(x, y), according to platform C.\n",
            "        \n",
            "        x % y may differ.\n",
            "    \n",
            "    frexp(x, /)\n",
            "        Return the mantissa and exponent of x, as pair (m, e).\n",
            "        \n",
            "        m is a float and e is an int, such that x = m * 2.**e.\n",
            "        If x is 0, m and e are both 0.  Else 0.5 <= abs(m) < 1.0.\n",
            "    \n",
            "    fsum(seq, /)\n",
            "        Return an accurate floating point sum of values in the iterable seq.\n",
            "        \n",
            "        Assumes IEEE-754 floating point arithmetic.\n",
            "    \n",
            "    gamma(x, /)\n",
            "        Gamma function at x.\n",
            "    \n",
            "    gcd(x, y, /)\n",
            "        greatest common divisor of x and y\n",
            "    \n",
            "    hypot(x, y, /)\n",
            "        Return the Euclidean distance, sqrt(x*x + y*y).\n",
            "    \n",
            "    isclose(a, b, *, rel_tol=1e-09, abs_tol=0.0)\n",
            "        Determine whether two floating point numbers are close in value.\n",
            "        \n",
            "          rel_tol\n",
            "            maximum difference for being considered \"close\", relative to the\n",
            "            magnitude of the input values\n",
            "          abs_tol\n",
            "            maximum difference for being considered \"close\", regardless of the\n",
            "            magnitude of the input values\n",
            "        \n",
            "        Return True if a is close in value to b, and False otherwise.\n",
            "        \n",
            "        For the values to be considered close, the difference between them\n",
            "        must be smaller than at least one of the tolerances.\n",
            "        \n",
            "        -inf, inf and NaN behave similarly to the IEEE 754 Standard.  That\n",
            "        is, NaN is not close to anything, even itself.  inf and -inf are\n",
            "        only close to themselves.\n",
            "    \n",
            "    isfinite(x, /)\n",
            "        Return True if x is neither an infinity nor a NaN, and False otherwise.\n",
            "    \n",
            "    isinf(x, /)\n",
            "        Return True if x is a positive or negative infinity, and False otherwise.\n",
            "    \n",
            "    isnan(x, /)\n",
            "        Return True if x is a NaN (not a number), and False otherwise.\n",
            "    \n",
            "    ldexp(x, i, /)\n",
            "        Return x * (2**i).\n",
            "        \n",
            "        This is essentially the inverse of frexp().\n",
            "    \n",
            "    lgamma(x, /)\n",
            "        Natural logarithm of absolute value of Gamma function at x.\n",
            "    \n",
            "    log(...)\n",
            "        log(x, [base=math.e])\n",
            "        Return the logarithm of x to the given base.\n",
            "        \n",
            "        If the base not specified, returns the natural logarithm (base e) of x.\n",
            "    \n",
            "    log10(x, /)\n",
            "        Return the base 10 logarithm of x.\n",
            "    \n",
            "    log1p(x, /)\n",
            "        Return the natural logarithm of 1+x (base e).\n",
            "        \n",
            "        The result is computed in a way which is accurate for x near zero.\n",
            "    \n",
            "    log2(x, /)\n",
            "        Return the base 2 logarithm of x.\n",
            "    \n",
            "    modf(x, /)\n",
            "        Return the fractional and integer parts of x.\n",
            "        \n",
            "        Both results carry the sign of x and are floats.\n",
            "    \n",
            "    pow(x, y, /)\n",
            "        Return x**y (x to the power of y).\n",
            "    \n",
            "    radians(x, /)\n",
            "        Convert angle x from degrees to radians.\n",
            "    \n",
            "    remainder(x, y, /)\n",
            "        Difference between x and the closest integer multiple of y.\n",
            "        \n",
            "        Return x - n*y where n*y is the closest integer multiple of y.\n",
            "        In the case where x is exactly halfway between two multiples of\n",
            "        y, the nearest even value of n is used. The result is always exact.\n",
            "    \n",
            "    sin(x, /)\n",
            "        Return the sine of x (measured in radians).\n",
            "    \n",
            "    sinh(x, /)\n",
            "        Return the hyperbolic sine of x.\n",
            "    \n",
            "    sqrt(x, /)\n",
            "        Return the square root of x.\n",
            "    \n",
            "    tan(x, /)\n",
            "        Return the tangent of x (measured in radians).\n",
            "    \n",
            "    tanh(x, /)\n",
            "        Return the hyperbolic tangent of x.\n",
            "    \n",
            "    trunc(x, /)\n",
            "        Truncates the Real x to the nearest Integral toward 0.\n",
            "        \n",
            "        Uses the __trunc__ magic method.\n",
            "\n",
            "DATA\n",
            "    e = 2.718281828459045\n",
            "    inf = inf\n",
            "    nan = nan\n",
            "    pi = 3.141592653589793\n",
            "    tau = 6.283185307179586\n",
            "\n",
            "FILE\n",
            "    (built-in)\n",
            "\n",
            "\n"
          ],
          "name": "stdout"
        }
      ]
    },
    {
      "cell_type": "markdown",
      "metadata": {
        "id": "T28sF3yPnXWE"
      },
      "source": [
        "# **User Input**\n",
        "\n",
        "takes input as string type always"
      ]
    },
    {
      "cell_type": "code",
      "metadata": {
        "colab": {
          "base_uri": "https://localhost:8080/"
        },
        "id": "M95m6zEZnZW7",
        "outputId": "bc33ec38-599f-4d93-e8d9-40c4ef45ccf6"
      },
      "source": [
        "x=input('enter First number: ')\n",
        "print(type(x))\n",
        "a=int(x)\n",
        "y=input('enter 2nd number: ')\n",
        "b=int(y)\n",
        "print(a+b)"
      ],
      "execution_count": null,
      "outputs": [
        {
          "output_type": "stream",
          "text": [
            "enter First number: 4\n",
            "<class 'str'>\n",
            "enter 2nd number: 4\n",
            "8\n"
          ],
          "name": "stdout"
        }
      ]
    },
    {
      "cell_type": "code",
      "metadata": {
        "colab": {
          "base_uri": "https://localhost:8080/"
        },
        "id": "3mGg616url9n",
        "outputId": "bea7f4cd-1a50-4e43-f0cf-f157d4851f8c"
      },
      "source": [
        "num=int(input('enter num'))\n",
        "print(num)"
      ],
      "execution_count": null,
      "outputs": [
        {
          "output_type": "stream",
          "text": [
            "enter num7\n",
            "7\n"
          ],
          "name": "stdout"
        }
      ]
    },
    {
      "cell_type": "code",
      "metadata": {
        "colab": {
          "base_uri": "https://localhost:8080/"
        },
        "id": "T7PBaYNtnZgl",
        "outputId": "d6ab393c-1aab-4001-ef5f-d3337e765a09"
      },
      "source": [
        "ch=input('enter char')\n",
        "print(ch)"
      ],
      "execution_count": null,
      "outputs": [
        {
          "output_type": "stream",
          "text": [
            "enter charpq\n",
            "pq\n"
          ],
          "name": "stdout"
        }
      ]
    },
    {
      "cell_type": "code",
      "metadata": {
        "colab": {
          "base_uri": "https://localhost:8080/"
        },
        "id": "ahQNq4JHq6xl",
        "outputId": "d3221a35-f756-45fb-b35e-6563557f8deb"
      },
      "source": [
        "ch=input('enter char')[0]\n",
        "print(ch)"
      ],
      "execution_count": null,
      "outputs": [
        {
          "output_type": "stream",
          "text": [
            "enter charpjj\n",
            "p\n"
          ],
          "name": "stdout"
        }
      ]
    },
    {
      "cell_type": "code",
      "metadata": {
        "colab": {
          "base_uri": "https://localhost:8080/"
        },
        "id": "y1zielbMq-ic",
        "outputId": "2ba4eed8-99ae-4026-b185-9f47e94a9e16"
      },
      "source": [
        "result=eval(input('enter expression'))\n",
        "print(result)"
      ],
      "execution_count": null,
      "outputs": [
        {
          "output_type": "stream",
          "text": [
            "enter expression2+8-8\n",
            "2\n"
          ],
          "name": "stdout"
        }
      ]
    },
    {
      "cell_type": "code",
      "metadata": {
        "colab": {
          "base_uri": "https://localhost:8080/"
        },
        "id": "9Q-1gKRkRzjl",
        "outputId": "fe1d167b-a8e9-40fb-e79c-cc8a58c5cf02"
      },
      "source": [
        "lst=[]\n",
        "for i in range(5):\n",
        "     lst.append(int(input('enter numbers: ')))\n",
        "print(lst)"
      ],
      "execution_count": null,
      "outputs": [
        {
          "output_type": "stream",
          "text": [
            "enter numbers: 2\n",
            "enter numbers: 3\n",
            "enter numbers: 4\n",
            "enter numbers: 5\n",
            "enter numbers: 6\n",
            "[2, 3, 4, 5, 6]\n"
          ],
          "name": "stdout"
        }
      ]
    },
    {
      "cell_type": "markdown",
      "metadata": {
        "id": "MDuZiAjbs1JK"
      },
      "source": [
        "# **if else**"
      ]
    },
    {
      "cell_type": "code",
      "metadata": {
        "id": "BWF07vB7s8m0"
      },
      "source": [],
      "execution_count": null,
      "outputs": []
    },
    {
      "cell_type": "markdown",
      "metadata": {
        "id": "8t8H6VHJs3en"
      },
      "source": [
        "# **while loop**"
      ]
    },
    {
      "cell_type": "code",
      "metadata": {
        "id": "qiEbe9shs9PT"
      },
      "source": [],
      "execution_count": null,
      "outputs": []
    },
    {
      "cell_type": "markdown",
      "metadata": {
        "id": "yuC55rhWs6JZ"
      },
      "source": [
        "# **for loop**"
      ]
    },
    {
      "cell_type": "code",
      "metadata": {
        "id": "vURPZcBTs-Ys"
      },
      "source": [],
      "execution_count": null,
      "outputs": []
    },
    {
      "cell_type": "markdown",
      "metadata": {
        "id": "weuOXZJ-ziz4"
      },
      "source": [
        "# **Break, continue and pass**"
      ]
    },
    {
      "cell_type": "code",
      "metadata": {
        "colab": {
          "base_uri": "https://localhost:8080/"
        },
        "id": "Q-BP16XhzlH0",
        "outputId": "bc25f0cf-1d71-474d-cd42-7a66812ae1e6"
      },
      "source": [
        "for i in range(11):\n",
        "  if i>5:\n",
        "    break  #come out of the loop\n",
        "  else:\n",
        "    print(i)"
      ],
      "execution_count": null,
      "outputs": [
        {
          "output_type": "stream",
          "text": [
            "0\n",
            "1\n",
            "2\n",
            "3\n",
            "4\n",
            "5\n"
          ],
          "name": "stdout"
        }
      ]
    },
    {
      "cell_type": "code",
      "metadata": {
        "colab": {
          "base_uri": "https://localhost:8080/"
        },
        "id": "_mNtof7K0JCz",
        "outputId": "9c96edfa-edec-4b98-8e99-f0e7c446da20"
      },
      "source": [
        "for i in range(11):\n",
        "  if i%3==0:\n",
        "    continue  #skip that iteration\n",
        "  else:\n",
        "    print(i)"
      ],
      "execution_count": null,
      "outputs": [
        {
          "output_type": "stream",
          "text": [
            "1\n",
            "2\n",
            "4\n",
            "5\n",
            "7\n",
            "8\n",
            "10\n"
          ],
          "name": "stdout"
        }
      ]
    },
    {
      "cell_type": "code",
      "metadata": {
        "colab": {
          "base_uri": "https://localhost:8080/"
        },
        "id": "mH_83cW_0Wno",
        "outputId": "6adb0813-6224-41df-8605-a355f7bd9cc6"
      },
      "source": [
        "#printing even numbers\n",
        "for i in range(11):\n",
        "  if i%2!=0:\n",
        "    pass  #do nthing for this execution\n",
        "  else:\n",
        "    print(i)"
      ],
      "execution_count": null,
      "outputs": [
        {
          "output_type": "stream",
          "text": [
            "0\n",
            "2\n",
            "4\n",
            "6\n",
            "8\n",
            "10\n"
          ],
          "name": "stdout"
        }
      ]
    },
    {
      "cell_type": "markdown",
      "metadata": {
        "id": "mlFHq-BD0xGz"
      },
      "source": [
        "# **PATTERN PRINT:**\n",
        "\n",
        "1 1 1 1\n",
        "\n",
        "1 1 1 1\n",
        "\n",
        "1 1 1 1\n",
        "\n",
        "1 1 1 1"
      ]
    },
    {
      "cell_type": "code",
      "metadata": {
        "colab": {
          "base_uri": "https://localhost:8080/"
        },
        "id": "ZGABqBqD0xQt",
        "outputId": "2e82b1a7-22ae-460f-b9ae-5712cb1d8d79"
      },
      "source": [
        "for i in range(4):\n",
        "  for j in range(4):\n",
        "    print(1, end='')  #end--> when you dont wana come to new line\n",
        "  print()"
      ],
      "execution_count": null,
      "outputs": [
        {
          "output_type": "stream",
          "text": [
            "1111\n",
            "1111\n",
            "1111\n",
            "1111\n"
          ],
          "name": "stdout"
        }
      ]
    },
    {
      "cell_type": "code",
      "metadata": {
        "colab": {
          "base_uri": "https://localhost:8080/"
        },
        "id": "0ObKeA6j3sxC",
        "outputId": "ab6685df-9793-451c-b726-ae223d5216d2"
      },
      "source": [
        "for i in range(4):\n",
        "  for j in range(i+1):\n",
        "    print(1, end='')  #end--> when you dont wana come to new line\n",
        "  print()"
      ],
      "execution_count": null,
      "outputs": [
        {
          "output_type": "stream",
          "text": [
            "1\n",
            "11\n",
            "111\n",
            "1111\n"
          ],
          "name": "stdout"
        }
      ]
    },
    {
      "cell_type": "code",
      "metadata": {
        "colab": {
          "base_uri": "https://localhost:8080/"
        },
        "id": "O3deXRgs34MB",
        "outputId": "fbea526b-1f2b-4c1f-aa07-eba871da14b5"
      },
      "source": [
        "for i in range(4):\n",
        "  for j in range(4-i):  #i=0,1,2,3--->j=4,3,2,1\n",
        "    print(1, end='')  #end--> when you dont wana come to new line\n",
        "  print()"
      ],
      "execution_count": null,
      "outputs": [
        {
          "output_type": "stream",
          "text": [
            "1111\n",
            "111\n",
            "11\n",
            "1\n"
          ],
          "name": "stdout"
        }
      ]
    },
    {
      "cell_type": "code",
      "metadata": {
        "colab": {
          "base_uri": "https://localhost:8080/"
        },
        "id": "-JnwVysq4H_z",
        "outputId": "1948de55-1c69-4886-ed55-9b9b75ef7aab"
      },
      "source": [
        "#1\n",
        "#2 3\n",
        "#4 5 6\n",
        "#7 8 9 10\n",
        "\n",
        "count=1\n",
        "for i in range(4):\n",
        "  for j in range(i+1):\n",
        "    print(count,end=' ')  #end--> when you dont wana come to new line\n",
        "    count+=1\n",
        "  print()"
      ],
      "execution_count": null,
      "outputs": [
        {
          "output_type": "stream",
          "text": [
            "1 \n",
            "2 3 \n",
            "4 5 6 \n",
            "7 8 9 10 \n"
          ],
          "name": "stdout"
        }
      ]
    },
    {
      "cell_type": "code",
      "metadata": {
        "colab": {
          "base_uri": "https://localhost:8080/"
        },
        "id": "UR8hzI4r5pqt",
        "outputId": "4c179ab1-d0c5-4a35-9344-2851f05d0e94"
      },
      "source": [
        "#1 2 3 4\n",
        "#2 3 4\n",
        "#3 4\n",
        "#4\n",
        "\n",
        "\n",
        "for i in range(4):\n",
        "  for j in range(4-i):\n",
        "\n",
        "    print(j+i+1,end=' ')  #end--> when you dont wana come to new line\n",
        "\n",
        "  print()\n"
      ],
      "execution_count": null,
      "outputs": [
        {
          "output_type": "stream",
          "text": [
            "1 2 3 4 \n",
            "2 3 4 \n",
            "3 4 \n",
            "4 \n"
          ],
          "name": "stdout"
        }
      ]
    },
    {
      "cell_type": "code",
      "metadata": {
        "colab": {
          "base_uri": "https://localhost:8080/"
        },
        "id": "e5QVr8eS6tn3",
        "outputId": "a40660b2-29bd-465e-95fb-f70f40efdfee"
      },
      "source": [
        "#  1\n",
        "# 111\n",
        "#11111\n",
        "\n",
        "n=10\n",
        "for i in range(n):\n",
        "  for j in range(2*n-1):\n",
        "    if i+j >=n-1 and j-i<=n-1:\n",
        "      print(\"*\",end='')\n",
        "    else:\n",
        "      print(\" \",end='')\n",
        "  print('\\n')"
      ],
      "execution_count": null,
      "outputs": [
        {
          "output_type": "stream",
          "text": [
            "         *         \n",
            "\n",
            "        ***        \n",
            "\n",
            "       *****       \n",
            "\n",
            "      *******      \n",
            "\n",
            "     *********     \n",
            "\n",
            "    ***********    \n",
            "\n",
            "   *************   \n",
            "\n",
            "  ***************  \n",
            "\n",
            " ***************** \n",
            "\n",
            "*******************\n",
            "\n"
          ],
          "name": "stdout"
        }
      ]
    },
    {
      "cell_type": "code",
      "metadata": {
        "colab": {
          "base_uri": "https://localhost:8080/"
        },
        "id": "EIAItWG29hPx",
        "outputId": "9773d6a1-4bb7-4501-b4e3-dd072730a09e"
      },
      "source": [
        "for i in range(3):\n",
        "  for j in range(5):\n",
        "    if i+j >=2 and i+j <=2*(i+1):\n",
        "      print(\"*\",end='')\n",
        "    else:\n",
        "      print(\" \",end='')\n",
        "  print('\\n')"
      ],
      "execution_count": null,
      "outputs": [
        {
          "output_type": "stream",
          "text": [
            "  *  \n",
            "\n",
            " *** \n",
            "\n",
            "*****\n",
            "\n"
          ],
          "name": "stdout"
        }
      ]
    },
    {
      "cell_type": "code",
      "metadata": {
        "colab": {
          "base_uri": "https://localhost:8080/"
        },
        "id": "iFYBSj4g-dXv",
        "outputId": "3ad8c004-212e-4996-8952-9b8f12da84df"
      },
      "source": [
        "for i in range(3):\n",
        "  for j in range(5):\n",
        "    if j>=2-i and j<=2+i:\n",
        "      print(\"*\",end='')\n",
        "    else:\n",
        "      print(\" \",end='')\n",
        "  print('\\n')"
      ],
      "execution_count": null,
      "outputs": [
        {
          "output_type": "stream",
          "text": [
            "  *  \n",
            "\n",
            " *** \n",
            "\n",
            "*****\n",
            "\n"
          ],
          "name": "stdout"
        }
      ]
    },
    {
      "cell_type": "code",
      "metadata": {
        "colab": {
          "base_uri": "https://localhost:8080/"
        },
        "id": "4yF93yoR_mZm",
        "outputId": "885078d9-5a9b-4e75-e7a4-2ad288417aea"
      },
      "source": [
        "for i in range(5):\n",
        "  for j in range(6):\n",
        "    if j==2*i+1:\n",
        "      print(\"*\",end='')\n",
        "    else:\n",
        "      print(\" \",end='')\n",
        "  print('\\n')"
      ],
      "execution_count": null,
      "outputs": [
        {
          "output_type": "stream",
          "text": [
            " *    \n",
            "\n",
            "   *  \n",
            "\n",
            "     *\n",
            "\n",
            "      \n",
            "\n",
            "      \n",
            "\n"
          ],
          "name": "stdout"
        }
      ]
    },
    {
      "cell_type": "markdown",
      "metadata": {
        "id": "skRhTHk_qiEN"
      },
      "source": [
        "is Prime?\n",
        "using for else"
      ]
    },
    {
      "cell_type": "code",
      "metadata": {
        "colab": {
          "base_uri": "https://localhost:8080/"
        },
        "id": "MeVD9Pk1qiXD",
        "outputId": "048970d5-d2f3-4fe3-aa96-12ed5c39caa5"
      },
      "source": [
        "num=7\n",
        "for i in range(2,num):\n",
        "  if num%i==0:\n",
        "    print('not prime')\n",
        "else:\n",
        "    print('prime')"
      ],
      "execution_count": null,
      "outputs": [
        {
          "output_type": "stream",
          "text": [
            "prime\n"
          ],
          "name": "stdout"
        }
      ]
    },
    {
      "cell_type": "markdown",
      "metadata": {
        "id": "G86lQDAivKvR"
      },
      "source": [
        "# **Array**"
      ]
    },
    {
      "cell_type": "code",
      "metadata": {
        "colab": {
          "base_uri": "https://localhost:8080/"
        },
        "id": "aVlKHEfHvK_b",
        "outputId": "68fb265c-cbbd-445e-f280-9c8e7cdcb749"
      },
      "source": [
        "#import array\n",
        "from array import *\n",
        "vals= array('i',[1,3,4,5,-1])\n",
        "print(vals)\n",
        "print(vals.typecode)\n",
        "print(vals.buffer_info())  #address, size\n",
        "vals.reverse()\n",
        "print(vals)"
      ],
      "execution_count": null,
      "outputs": [
        {
          "output_type": "stream",
          "text": [
            "array('i', [1, 3, 4, 5, -1])\n",
            "i\n",
            "(139729581694416, 5)\n",
            "array('i', [-1, 5, 4, 3, 1])\n"
          ],
          "name": "stdout"
        }
      ]
    },
    {
      "cell_type": "code",
      "metadata": {
        "colab": {
          "base_uri": "https://localhost:8080/"
        },
        "id": "ydvenVgZ1_wS",
        "outputId": "b6949833-b0eb-4881-b082-072811693630"
      },
      "source": [
        "newarr=array(vals.typecode, (a*2 for a in vals))\n",
        "for a in newarr:\n",
        "  print(a)"
      ],
      "execution_count": null,
      "outputs": [
        {
          "output_type": "stream",
          "text": [
            "-2\n",
            "10\n",
            "8\n",
            "6\n",
            "2\n"
          ],
          "name": "stdout"
        }
      ]
    },
    {
      "cell_type": "code",
      "metadata": {
        "colab": {
          "base_uri": "https://localhost:8080/"
        },
        "id": "qC7GJCtU3rw_",
        "outputId": "6940d8f5-bbd5-4f81-d6c5-2f8b5f7e58d9"
      },
      "source": [
        "arr= array('i',[])\n",
        "\n",
        "n=int(input('enter length of array: '))\n",
        "\n",
        "for i in range(n):\n",
        "  x=int(input('enter value: '))\n",
        "  arr.append(x)\n",
        "\n",
        "print(arr)"
      ],
      "execution_count": null,
      "outputs": [
        {
          "output_type": "stream",
          "text": [
            "enter length of array: 4\n",
            "enter value: 2\n",
            "enter value: 3\n",
            "enter value: 4\n",
            "enter value: 5\n",
            "array('i', [2, 3, 4, 5])\n"
          ],
          "name": "stdout"
        }
      ]
    },
    {
      "cell_type": "code",
      "metadata": {
        "colab": {
          "base_uri": "https://localhost:8080/"
        },
        "id": "hU0BIoP-4xUX",
        "outputId": "547da827-6032-4a61-a0b2-98b9e4ed6421"
      },
      "source": [
        "print(arr.index(4))"
      ],
      "execution_count": null,
      "outputs": [
        {
          "output_type": "stream",
          "text": [
            "2\n"
          ],
          "name": "stdout"
        }
      ]
    },
    {
      "cell_type": "markdown",
      "metadata": {
        "id": "K9tFN3Mx5Slk"
      },
      "source": [
        ">**NOTE: array package does not support multi dimensional array**"
      ]
    },
    {
      "cell_type": "markdown",
      "metadata": {
        "id": "DkwbPktx5gfa"
      },
      "source": [
        "# **NUMPY**"
      ]
    },
    {
      "cell_type": "markdown",
      "metadata": {
        "id": "zH_7TGvgyN9_"
      },
      "source": [
        "Arrays: Different ways of creating"
      ]
    },
    {
      "cell_type": "code",
      "metadata": {
        "id": "0Fuv-0vU5izk",
        "colab": {
          "base_uri": "https://localhost:8080/"
        },
        "outputId": "7dc9e994-e2bc-417d-a2c9-2b7805ddda50"
      },
      "source": [
        "import numpy as np\n",
        "arr= np.array([1,2,3,4 ])\n",
        "print(arr.dtype)\n",
        "print(arr)"
      ],
      "execution_count": null,
      "outputs": [
        {
          "output_type": "stream",
          "text": [
            "int64\n",
            "[1 2 3 4]\n"
          ],
          "name": "stdout"
        }
      ]
    },
    {
      "cell_type": "code",
      "metadata": {
        "colab": {
          "base_uri": "https://localhost:8080/"
        },
        "id": "0E0yy1Acv7zH",
        "outputId": "a7a9232d-63b1-4351-d932-1b323e77f210"
      },
      "source": [
        "arr=np.array([1,2,3,4.0])\n",
        "print(arr.dtype)\n",
        "print(arr)"
      ],
      "execution_count": null,
      "outputs": [
        {
          "output_type": "stream",
          "text": [
            "float64\n",
            "[1. 2. 3. 4.]\n"
          ],
          "name": "stdout"
        }
      ]
    },
    {
      "cell_type": "code",
      "metadata": {
        "colab": {
          "base_uri": "https://localhost:8080/"
        },
        "id": "GaJNnW-hwD4P",
        "outputId": "8645f401-f77c-4be9-ddbf-0639d6b48269"
      },
      "source": [
        "arr=np.array([1,2,3,4],float)\n",
        "print(arr.dtype)\n",
        "print(arr)"
      ],
      "execution_count": null,
      "outputs": [
        {
          "output_type": "stream",
          "text": [
            "float64\n",
            "[1. 2. 3. 4.]\n"
          ],
          "name": "stdout"
        }
      ]
    },
    {
      "cell_type": "code",
      "metadata": {
        "colab": {
          "base_uri": "https://localhost:8080/"
        },
        "id": "RiQGsPFZwYna",
        "outputId": "5ff1f440-0c72-4e6d-c62e-2f421c94bbe8"
      },
      "source": [
        "arr=np.linspace(0,10,14)  #start,end,steps(no of parts)  /float  /bydefault=50 parts\n",
        "#gap between two elements is same\n",
        "arr"
      ],
      "execution_count": null,
      "outputs": [
        {
          "output_type": "execute_result",
          "data": {
            "text/plain": [
              "array([ 0.        ,  0.76923077,  1.53846154,  2.30769231,  3.07692308,\n",
              "        3.84615385,  4.61538462,  5.38461538,  6.15384615,  6.92307692,\n",
              "        7.69230769,  8.46153846,  9.23076923, 10.        ])"
            ]
          },
          "metadata": {
            "tags": []
          },
          "execution_count": 8
        }
      ]
    },
    {
      "cell_type": "code",
      "metadata": {
        "colab": {
          "base_uri": "https://localhost:8080/"
        },
        "id": "T5SELpsAwmxA",
        "outputId": "f91f6700-ff77-442f-dd4c-4d74bd65e6c3"
      },
      "source": [
        "arr=np.arange(1,15,2)  #start,stop, steps(skipping)\n",
        "arr"
      ],
      "execution_count": null,
      "outputs": [
        {
          "output_type": "execute_result",
          "data": {
            "text/plain": [
              "array([ 1,  3,  5,  7,  9, 11, 13])"
            ]
          },
          "metadata": {
            "tags": []
          },
          "execution_count": 9
        }
      ]
    },
    {
      "cell_type": "code",
      "metadata": {
        "colab": {
          "base_uri": "https://localhost:8080/"
        },
        "id": "Y0sYELH6xKwQ",
        "outputId": "e983c9da-7d86-4d26-cd32-d5c68f85ebae"
      },
      "source": [
        "arr=np.zeros(5)\n",
        "arr"
      ],
      "execution_count": null,
      "outputs": [
        {
          "output_type": "execute_result",
          "data": {
            "text/plain": [
              "array([0., 0., 0., 0., 0.])"
            ]
          },
          "metadata": {
            "tags": []
          },
          "execution_count": 11
        }
      ]
    },
    {
      "cell_type": "code",
      "metadata": {
        "colab": {
          "base_uri": "https://localhost:8080/"
        },
        "id": "Xbc0xEAKx0Ho",
        "outputId": "e16295a6-5009-4f90-bbb1-2e78aa39659f"
      },
      "source": [
        "arr=np.ones(6,int)\n",
        "arr"
      ],
      "execution_count": null,
      "outputs": [
        {
          "output_type": "execute_result",
          "data": {
            "text/plain": [
              "array([1, 1, 1, 1, 1, 1])"
            ]
          },
          "metadata": {
            "tags": []
          },
          "execution_count": 12
        }
      ]
    },
    {
      "cell_type": "markdown",
      "metadata": {
        "id": "hRTMysxzykes"
      },
      "source": [
        "**Different operations on Arrays using Numpy**"
      ]
    },
    {
      "cell_type": "code",
      "metadata": {
        "colab": {
          "base_uri": "https://localhost:8080/"
        },
        "id": "msw33rGMykwo",
        "outputId": "bed00a5b-0256-4b52-a250-c7dd18593c44"
      },
      "source": [
        "arr=arr+5\n",
        "arr"
      ],
      "execution_count": null,
      "outputs": [
        {
          "output_type": "execute_result",
          "data": {
            "text/plain": [
              "array([6, 6, 6, 6, 6, 6])"
            ]
          },
          "metadata": {
            "tags": []
          },
          "execution_count": 13
        }
      ]
    },
    {
      "cell_type": "code",
      "metadata": {
        "colab": {
          "base_uri": "https://localhost:8080/"
        },
        "id": "ZcUl_ay0ytGd",
        "outputId": "546b6d57-926b-4b24-9483-f60493bee6d2"
      },
      "source": [
        "arr1=np.array([1,2,3,4,5])\n",
        "arr2=np.array([2,2,6,4,10])\n",
        "arr1+arr2"
      ],
      "execution_count": null,
      "outputs": [
        {
          "output_type": "execute_result",
          "data": {
            "text/plain": [
              "array([ 3,  4,  9,  8, 15])"
            ]
          },
          "metadata": {
            "tags": []
          },
          "execution_count": 15
        }
      ]
    },
    {
      "cell_type": "code",
      "metadata": {
        "colab": {
          "base_uri": "https://localhost:8080/"
        },
        "id": "srxd2oFRy7Ap",
        "outputId": "f3508dda-0f84-42f9-b226-501cf0ac5d79"
      },
      "source": [
        "np.sin(arr1)"
      ],
      "execution_count": null,
      "outputs": [
        {
          "output_type": "execute_result",
          "data": {
            "text/plain": [
              "array([ 0.84147098,  0.90929743,  0.14112001, -0.7568025 , -0.95892427])"
            ]
          },
          "metadata": {
            "tags": []
          },
          "execution_count": 17
        }
      ]
    },
    {
      "cell_type": "code",
      "metadata": {
        "colab": {
          "base_uri": "https://localhost:8080/"
        },
        "id": "AJcmUmPzy_Ve",
        "outputId": "2b30672a-d7df-4c59-9ebe-4e57023e39d4"
      },
      "source": [
        "np.log(arr1)"
      ],
      "execution_count": null,
      "outputs": [
        {
          "output_type": "execute_result",
          "data": {
            "text/plain": [
              "array([0.        , 0.69314718, 1.09861229, 1.38629436, 1.60943791])"
            ]
          },
          "metadata": {
            "tags": []
          },
          "execution_count": 18
        }
      ]
    },
    {
      "cell_type": "code",
      "metadata": {
        "colab": {
          "base_uri": "https://localhost:8080/"
        },
        "id": "IWBosHBbzBxB",
        "outputId": "b2b94844-20be-45fc-9879-e1db465b009f"
      },
      "source": [
        "np.sqrt(arr1)"
      ],
      "execution_count": null,
      "outputs": [
        {
          "output_type": "execute_result",
          "data": {
            "text/plain": [
              "array([1.        , 1.41421356, 1.73205081, 2.        , 2.23606798])"
            ]
          },
          "metadata": {
            "tags": []
          },
          "execution_count": 19
        }
      ]
    },
    {
      "cell_type": "code",
      "metadata": {
        "colab": {
          "base_uri": "https://localhost:8080/"
        },
        "id": "_rwq1nfTzHNb",
        "outputId": "be2feb81-a985-4320-e263-d54771d0b9f1"
      },
      "source": [
        "np.sum(arr1)"
      ],
      "execution_count": null,
      "outputs": [
        {
          "output_type": "execute_result",
          "data": {
            "text/plain": [
              "15"
            ]
          },
          "metadata": {
            "tags": []
          },
          "execution_count": 20
        }
      ]
    },
    {
      "cell_type": "code",
      "metadata": {
        "colab": {
          "base_uri": "https://localhost:8080/"
        },
        "id": "paz6Hq8kzXvR",
        "outputId": "4b2a15d9-f1c3-430f-f37b-b5fce934ac01"
      },
      "source": [
        "np.sort([1,6,3,2,0,89,67,36])"
      ],
      "execution_count": null,
      "outputs": [
        {
          "output_type": "execute_result",
          "data": {
            "text/plain": [
              "array([ 0,  1,  2,  3,  6, 36, 67, 89])"
            ]
          },
          "metadata": {
            "tags": []
          },
          "execution_count": 21
        }
      ]
    },
    {
      "cell_type": "code",
      "metadata": {
        "colab": {
          "base_uri": "https://localhost:8080/"
        },
        "id": "wtf6GOohzdKo",
        "outputId": "2bc917e1-7b0c-41ba-f192-cd69f7ae0369"
      },
      "source": [
        "np.unique([1,2,2,3,3,35,66,55,66,3,4])"
      ],
      "execution_count": null,
      "outputs": [
        {
          "output_type": "execute_result",
          "data": {
            "text/plain": [
              "array([ 1,  2,  3,  4, 35, 55, 66])"
            ]
          },
          "metadata": {
            "tags": []
          },
          "execution_count": 22
        }
      ]
    },
    {
      "cell_type": "code",
      "metadata": {
        "colab": {
          "base_uri": "https://localhost:8080/"
        },
        "id": "rH-72CTXzxQP",
        "outputId": "0e513269-6033-4136-c293-d57fb6a69a98"
      },
      "source": [
        "np.concatenate([ [1,2,3,4,5] , [3,4,4,55,66] ])"
      ],
      "execution_count": null,
      "outputs": [
        {
          "output_type": "execute_result",
          "data": {
            "text/plain": [
              "array([ 1,  2,  3,  4,  5,  3,  4,  4, 55, 66])"
            ]
          },
          "metadata": {
            "tags": []
          },
          "execution_count": 24
        }
      ]
    },
    {
      "cell_type": "markdown",
      "metadata": {
        "id": "AkaUuDlAyRvC"
      },
      "source": [
        "Copying an array"
      ]
    },
    {
      "cell_type": "code",
      "metadata": {
        "colab": {
          "base_uri": "https://localhost:8080/"
        },
        "id": "DE5WRy4xyTNf",
        "outputId": "eee2156e-eb57-439e-ebe0-288d032623a2"
      },
      "source": [
        "arr1=np.array([1,2,3,4,5])\n",
        "arr2=arr1\n",
        "\n",
        "print(arr1)\n",
        "print(arr2)\n",
        "\n",
        "print(id(arr1))\n",
        "print(id(arr2))   #same array-->same address"
      ],
      "execution_count": null,
      "outputs": [
        {
          "output_type": "stream",
          "text": [
            "[1 2 3 4 5]\n",
            "[1 2 3 4 5]\n",
            "140207518175920\n",
            "140207518175920\n"
          ],
          "name": "stdout"
        }
      ]
    },
    {
      "cell_type": "code",
      "metadata": {
        "colab": {
          "base_uri": "https://localhost:8080/"
        },
        "id": "O8n0uS3Q1lzZ",
        "outputId": "46a2b785-8fa4-4757-c63c-4c0e4ac1559d"
      },
      "source": [
        "#same array with different address--> SHALLOW COPY\n",
        "arr1=np.array([1,2,3,4,5])\n",
        "arr2=arr1.view()\n",
        "\n",
        "arr1[2]=45\n",
        "print(arr1)\n",
        "print(arr2)\n",
        "\n",
        "print(id(arr1))\n",
        "print(id(arr2))"
      ],
      "execution_count": null,
      "outputs": [
        {
          "output_type": "stream",
          "text": [
            "[ 1  2 45  4  5]\n",
            "[ 1  2 45  4  5]\n",
            "140207527723136\n",
            "140207527726096\n"
          ],
          "name": "stdout"
        }
      ]
    },
    {
      "cell_type": "code",
      "metadata": {
        "colab": {
          "base_uri": "https://localhost:8080/"
        },
        "id": "ZsVZDY2D2ca1",
        "outputId": "d49631fa-661e-4821-a046-bd96d2d3cec2"
      },
      "source": [
        "#differnt arrays with different addresses--> DEEP COPY\n",
        "arr1=np.array([1,2,3,4,5])\n",
        "arr2=arr1.copy()\n",
        "\n",
        "arr1[2]=45\n",
        "print(arr1)\n",
        "print(arr2)\n",
        "\n",
        "print(id(arr1))\n",
        "print(id(arr2))"
      ],
      "execution_count": null,
      "outputs": [
        {
          "output_type": "stream",
          "text": [
            "[ 1  2 45  4  5]\n",
            "[1 2 3 4 5]\n",
            "140207518078096\n",
            "140207521066800\n"
          ],
          "name": "stdout"
        }
      ]
    },
    {
      "cell_type": "markdown",
      "metadata": {
        "id": "ebjFQvsb3BHz"
      },
      "source": [
        "**Multi dimensional Array**"
      ]
    },
    {
      "cell_type": "code",
      "metadata": {
        "colab": {
          "base_uri": "https://localhost:8080/"
        },
        "id": "VQXNx4HX3Fl4",
        "outputId": "b0127059-d2f5-49e6-b792-de74fae09309"
      },
      "source": [
        "arr=np.array([ [1,2,3,4,5,6], [2,3,455,66,3,8]])\n",
        "print(arr)\n",
        "print(arr.ndim)\n",
        "print(arr.shape)\n",
        "print(arr.size)"
      ],
      "execution_count": null,
      "outputs": [
        {
          "output_type": "stream",
          "text": [
            "[[  1   2   3   4   5   6]\n",
            " [  2   3 455  66   3   8]]\n",
            "2\n",
            "(2, 6)\n",
            "12\n"
          ],
          "name": "stdout"
        }
      ]
    },
    {
      "cell_type": "markdown",
      "metadata": {
        "id": "4DjzbFXL3mnL"
      },
      "source": [
        "Converting 2D array --> 1D array"
      ]
    },
    {
      "cell_type": "code",
      "metadata": {
        "colab": {
          "base_uri": "https://localhost:8080/"
        },
        "id": "IT33XaYf3sL-",
        "outputId": "9bd42d8d-1131-4fdb-9053-539cc1244dac"
      },
      "source": [
        "arr2=arr.flatten()\n",
        "print(arr2)\n",
        "print(arr2.shape)"
      ],
      "execution_count": null,
      "outputs": [
        {
          "output_type": "stream",
          "text": [
            "[  1   2   3   4   5   6   2   3 455  66   3   8]\n",
            "(12,)\n"
          ],
          "name": "stdout"
        }
      ]
    },
    {
      "cell_type": "markdown",
      "metadata": {
        "id": "U8Qs5ATV4OAj"
      },
      "source": [
        "Converting 1D array--> 2D array"
      ]
    },
    {
      "cell_type": "code",
      "metadata": {
        "colab": {
          "base_uri": "https://localhost:8080/"
        },
        "id": "VqubzHMg3sU_",
        "outputId": "428e66b1-7dd9-40a8-fbb1-f4ec0eca2bc9"
      },
      "source": [
        "arr3=arr2.reshape(6,2)\n",
        "print(arr3)\n",
        "print(arr3.shape)"
      ],
      "execution_count": null,
      "outputs": [
        {
          "output_type": "stream",
          "text": [
            "[[  1   2]\n",
            " [  3   4]\n",
            " [  5   6]\n",
            " [  2   3]\n",
            " [455  66]\n",
            " [  3   8]]\n",
            "(6, 2)\n"
          ],
          "name": "stdout"
        }
      ]
    },
    {
      "cell_type": "markdown",
      "metadata": {
        "id": "jvcjS-0f4UBh"
      },
      "source": [
        "1D --> 3D"
      ]
    },
    {
      "cell_type": "code",
      "metadata": {
        "colab": {
          "base_uri": "https://localhost:8080/"
        },
        "id": "Li4NomEj4Uil",
        "outputId": "5968d70a-7fda-4b52-e7c1-6042c828872a"
      },
      "source": [
        "arr4=arr2.reshape(3,2,2)\n",
        "print(arr4)"
      ],
      "execution_count": null,
      "outputs": [
        {
          "output_type": "stream",
          "text": [
            "[[[  1   2]\n",
            "  [  3   4]]\n",
            "\n",
            " [[  5   6]\n",
            "  [  2   3]]\n",
            "\n",
            " [[455  66]\n",
            "  [  3   8]]]\n"
          ],
          "name": "stdout"
        }
      ]
    },
    {
      "cell_type": "markdown",
      "metadata": {
        "id": "gqXgA0R25iza"
      },
      "source": [
        "**Multi dimensional Array --> Matrix**"
      ]
    },
    {
      "cell_type": "code",
      "metadata": {
        "colab": {
          "base_uri": "https://localhost:8080/"
        },
        "id": "SzE87Ms65oGL",
        "outputId": "f45a74f5-7fb7-42de-8ed6-85ee34a5945a"
      },
      "source": [
        "arr=np.array([ [1,2,3,4], [2,3,455,66]])\n",
        "mat=np.matrix(arr)\n",
        "print(mat)"
      ],
      "execution_count": null,
      "outputs": [
        {
          "output_type": "stream",
          "text": [
            "[[  1   2   3   4]\n",
            " [  2   3 455  66]]\n"
          ],
          "name": "stdout"
        }
      ]
    },
    {
      "cell_type": "code",
      "metadata": {
        "colab": {
          "base_uri": "https://localhost:8080/"
        },
        "id": "dSJLTWzC6HJX",
        "outputId": "9a1a4940-652a-4486-8c90-224fe1f9d365"
      },
      "source": [
        "mat=np.matrix('1,2,3 ; 2,3,4 ; 6,7,8')\n",
        "print(mat)"
      ],
      "execution_count": null,
      "outputs": [
        {
          "output_type": "stream",
          "text": [
            "[[1 2 3]\n",
            " [2 3 4]\n",
            " [6 7 8]]\n"
          ],
          "name": "stdout"
        }
      ]
    },
    {
      "cell_type": "code",
      "metadata": {
        "colab": {
          "base_uri": "https://localhost:8080/"
        },
        "id": "wj4kQD7b6tRx",
        "outputId": "1af65308-b1f4-44f3-a1ef-3130b97f9670"
      },
      "source": [
        "print(np.diagonal(mat))"
      ],
      "execution_count": null,
      "outputs": [
        {
          "output_type": "stream",
          "text": [
            "[1 3 8]\n"
          ],
          "name": "stdout"
        }
      ]
    },
    {
      "cell_type": "code",
      "metadata": {
        "colab": {
          "base_uri": "https://localhost:8080/"
        },
        "id": "lALAq_Nl69sL",
        "outputId": "d6f5d1fb-92fa-492b-ed61-588258f769d7"
      },
      "source": [
        "print(mat.max())"
      ],
      "execution_count": null,
      "outputs": [
        {
          "output_type": "stream",
          "text": [
            "8\n"
          ],
          "name": "stdout"
        }
      ]
    },
    {
      "cell_type": "code",
      "metadata": {
        "colab": {
          "base_uri": "https://localhost:8080/"
        },
        "id": "ysO_C5Xa7kCB",
        "outputId": "a9e07fba-657a-4be3-ff8a-2a9db2b38528"
      },
      "source": [
        "m1=np.matrix('1,2,3 ; 2,3,4 ; 6,7,8')\n",
        "m2=np.matrix('1,1,2 ; 2,1,2 ; 3,1,1')\n",
        "\n",
        "m3=m1+m2\n",
        "print(m3)"
      ],
      "execution_count": null,
      "outputs": [
        {
          "output_type": "stream",
          "text": [
            "[[2 3 5]\n",
            " [4 4 6]\n",
            " [9 8 9]]\n"
          ],
          "name": "stdout"
        }
      ]
    },
    {
      "cell_type": "code",
      "metadata": {
        "colab": {
          "base_uri": "https://localhost:8080/"
        },
        "id": "cuK6Kxu475XK",
        "outputId": "283b3b63-3486-4f41-cc3a-fa5e0966034b"
      },
      "source": [
        "m1=np.matrix('1,2,3 ; 2,3,4 ; 6,7,8')\n",
        "m2=np.matrix('1,1,2 ; 2,1,2 ; 3,1,1')\n",
        "\n",
        "print(m1)\n",
        "print(m2)\n",
        "m3=m1*m2\n",
        "print(m3)"
      ],
      "execution_count": null,
      "outputs": [
        {
          "output_type": "stream",
          "text": [
            "[[1 2 3]\n",
            " [2 3 4]\n",
            " [6 7 8]]\n",
            "[[1 1 2]\n",
            " [2 1 2]\n",
            " [3 1 1]]\n",
            "[[14  6  9]\n",
            " [20  9 14]\n",
            " [44 21 34]]\n"
          ],
          "name": "stdout"
        }
      ]
    },
    {
      "cell_type": "code",
      "metadata": {
        "colab": {
          "base_uri": "https://localhost:8080/"
        },
        "id": "suHUqHOJ8Qfl",
        "outputId": "1cc43327-3326-4f78-95c9-565bb76c4b87"
      },
      "source": [
        "m1=np.matrix('1,2,3 ; 2,3,4 ; 6,7,8')\n",
        "m2=np.matrix('1,1,2 ; 2,1,2 ; 3,1,1')\n",
        "\n",
        "print(m1)\n",
        "print(m2)\n",
        "\n",
        "m3=np.matmul(m1,m2)\n",
        "print(m3)"
      ],
      "execution_count": null,
      "outputs": [
        {
          "output_type": "stream",
          "text": [
            "[[1 2 3]\n",
            " [2 3 4]\n",
            " [6 7 8]]\n",
            "[[1 1 2]\n",
            " [2 1 2]\n",
            " [3 1 1]]\n",
            "[[14  6  9]\n",
            " [20  9 14]\n",
            " [44 21 34]]\n"
          ],
          "name": "stdout"
        }
      ]
    },
    {
      "cell_type": "markdown",
      "metadata": {
        "id": "Ju-j34QjBwex"
      },
      "source": [
        "# **Functions, Function arguments**"
      ]
    },
    {
      "cell_type": "code",
      "metadata": {
        "colab": {
          "base_uri": "https://localhost:8080/"
        },
        "id": "BEQrjza1Bwp5",
        "outputId": "ee7ab1f3-0d51-46d5-809f-7de9189d4baa"
      },
      "source": [
        "def update(x):\n",
        "  print(id(x)) #--->pointing same id of a=10\n",
        "\n",
        "  x=8  #--->changing the value means updating the address as well\n",
        "  print(id(x))  #--> new address\n",
        "  print('x:',x) #-->updated value\n",
        "\n",
        "a=10\n",
        "print(id(a))\n",
        "\n",
        "update(a)\n",
        "print('a:',a)  #--> not changed here as integers, strings are immutable\n"
      ],
      "execution_count": null,
      "outputs": [
        {
          "output_type": "stream",
          "text": [
            "93874774580000\n",
            "93874774580000\n",
            "93874774579936\n",
            "x: 8\n",
            "a: 10\n"
          ],
          "name": "stdout"
        }
      ]
    },
    {
      "cell_type": "markdown",
      "metadata": {
        "id": "h1xtOislEn6w"
      },
      "source": [
        "In case of list"
      ]
    },
    {
      "cell_type": "code",
      "metadata": {
        "colab": {
          "base_uri": "https://localhost:8080/"
        },
        "id": "94Zzuf7LC343",
        "outputId": "831868f6-aa01-4c70-d608-13c788f3d068"
      },
      "source": [
        "def update(x):\n",
        "  print(id(x)) #--->pointing same id of a=10\n",
        "\n",
        "  x[2]=8  #--->changing the value means changing at the same address\n",
        "  print(id(x))  #--> same address\n",
        "  print('x:',x) #-->updated value\n",
        "\n",
        "a=[10,20,30]\n",
        "print(id(a))\n",
        "\n",
        "update(a)\n",
        "print('a:',a)  #--> changed here as well, list is mutable\n"
      ],
      "execution_count": null,
      "outputs": [
        {
          "output_type": "stream",
          "text": [
            "140207517822320\n",
            "140207517822320\n",
            "140207517822320\n",
            "x: [10, 20, 8]\n",
            "a: [10, 20, 8]\n"
          ],
          "name": "stdout"
        }
      ]
    },
    {
      "cell_type": "markdown",
      "metadata": {
        "id": "wlNQypjwEvxT"
      },
      "source": [
        "**Types of function arguments**"
      ]
    },
    {
      "cell_type": "code",
      "metadata": {
        "colab": {
          "base_uri": "https://localhost:8080/"
        },
        "id": "90MWWJSnEwEu",
        "outputId": "72209bab-98ba-409c-f4a3-a05da4bb2c31"
      },
      "source": [
        "def person(name,age):\n",
        "  print(name)\n",
        "  print(age)\n",
        "\n",
        "person('vyoma','16')  #position arg\n"
      ],
      "execution_count": null,
      "outputs": [
        {
          "output_type": "stream",
          "text": [
            "vyoma\n",
            "16\n"
          ],
          "name": "stdout"
        }
      ]
    },
    {
      "cell_type": "code",
      "metadata": {
        "colab": {
          "base_uri": "https://localhost:8080/"
        },
        "id": "5KS60kaAGBUw",
        "outputId": "f92a0778-0827-4b7d-b058-f296dc9bc666"
      },
      "source": [
        "def person(name,age):\n",
        "  print(name)\n",
        "  print(age)\n",
        "\n",
        "person(age='16',name='vyoma')  #keyword arg(when you dont know the position )\n"
      ],
      "execution_count": null,
      "outputs": [
        {
          "output_type": "stream",
          "text": [
            "vyoma\n",
            "16\n"
          ],
          "name": "stdout"
        }
      ]
    },
    {
      "cell_type": "code",
      "metadata": {
        "colab": {
          "base_uri": "https://localhost:8080/"
        },
        "id": "uzKHnsUaGKwu",
        "outputId": "51d47ecc-041c-4973-bd7e-5a6c92782853"
      },
      "source": [
        "def person(name,age=18):\n",
        "  print(name)\n",
        "  print(age)\n",
        "\n",
        "person('vyoma')  #default arg\n"
      ],
      "execution_count": null,
      "outputs": [
        {
          "output_type": "stream",
          "text": [
            "vyoma\n",
            "18\n"
          ],
          "name": "stdout"
        }
      ]
    },
    {
      "cell_type": "code",
      "metadata": {
        "colab": {
          "base_uri": "https://localhost:8080/"
        },
        "id": "U0mcq5TBGPlJ",
        "outputId": "c37dacc7-fce9-44bb-b3ce-22dd20506b3d"
      },
      "source": [
        "def sum(a,*b):  #variable length argument\n",
        "  print(a)\n",
        "  print(b)\n",
        "  print(type(b))\n",
        "\n",
        "  #c=a\n",
        "  #for i in b:\n",
        "    #c=c+i\n",
        "  #print(c)\n",
        "\n",
        "sum(1,[2,3,4,5,6,8,99,78])"
      ],
      "execution_count": null,
      "outputs": [
        {
          "output_type": "stream",
          "text": [
            "1\n",
            "([2, 3, 4, 5, 6, 8, 99, 78],)\n",
            "<class 'tuple'>\n"
          ],
          "name": "stdout"
        }
      ]
    },
    {
      "cell_type": "code",
      "metadata": {
        "colab": {
          "base_uri": "https://localhost:8080/"
        },
        "id": "0wjlEq2MHqu3",
        "outputId": "6bf297ef-1cfc-45c7-c83d-dc8d84b8941a"
      },
      "source": [
        "def sum(*b):  #variable length argument\n",
        "  #print(a)\n",
        "  print(b)\n",
        "  print(type(b))\n",
        "\n",
        "  c=0\n",
        "  for i in b:\n",
        "    c=c+i\n",
        "  print(c)\n",
        "\n",
        "sum(1,2,3,4,5,6,8,99,78)"
      ],
      "execution_count": null,
      "outputs": [
        {
          "output_type": "stream",
          "text": [
            "(1, 2, 3, 4, 5, 6, 8, 99, 78)\n",
            "<class 'tuple'>\n",
            "206\n"
          ],
          "name": "stdout"
        }
      ]
    },
    {
      "cell_type": "code",
      "metadata": {
        "colab": {
          "base_uri": "https://localhost:8080/"
        },
        "id": "N88Q7-JWIo0Y",
        "outputId": "03d92496-fb91-4f86-c29b-b65b9ba1decd"
      },
      "source": [
        "#keyword variable length argumnet--> when you dont know hat type of data is user sending, specify the keyword by the usr himself\n",
        "\n",
        "def person(name, **data):\n",
        "  print(name)\n",
        "  print(data)\n",
        "  print(type(data))\n",
        "  for i,j in data.items():\n",
        "    print(i,j)\n",
        "\n",
        "person('vyoma',city='gzb',age=18)"
      ],
      "execution_count": null,
      "outputs": [
        {
          "output_type": "stream",
          "text": [
            "vyoma\n",
            "{'city': 'gzb', 'age': 18}\n",
            "<class 'dict'>\n",
            "city gzb\n",
            "age 18\n"
          ],
          "name": "stdout"
        }
      ]
    },
    {
      "cell_type": "markdown",
      "metadata": {
        "id": "rW7gFYOpPBON"
      },
      "source": [
        "# **Global - Local**"
      ]
    },
    {
      "cell_type": "code",
      "metadata": {
        "colab": {
          "base_uri": "https://localhost:8080/"
        },
        "id": "7IJc7mO2sP25",
        "outputId": "42a9b473-9d64-43dd-f947-3b55da25f237"
      },
      "source": [
        "a=15\n",
        "def hello():\n",
        "  a=10\n",
        "  print('local: ',a)\n",
        "\n",
        "hello()\n",
        "\n",
        "print('global: ',a)"
      ],
      "execution_count": null,
      "outputs": [
        {
          "output_type": "stream",
          "text": [
            "local:  10\n",
            "global:  15\n"
          ],
          "name": "stdout"
        }
      ]
    },
    {
      "cell_type": "code",
      "metadata": {
        "colab": {
          "base_uri": "https://localhost:8080/"
        },
        "id": "ATJajjPNsP56",
        "outputId": "03334525-15f8-4f40-dc4e-e7ee20b56926"
      },
      "source": [
        "a=15\n",
        "def hello():\n",
        "  global a\n",
        "  a=10  #-->as a global variable\n",
        "  print('updating: ',a)\n",
        "\n",
        "hello()\n",
        "\n",
        "print('global: ',a)"
      ],
      "execution_count": null,
      "outputs": [
        {
          "output_type": "stream",
          "text": [
            "updating:  10\n",
            "global:  10\n"
          ],
          "name": "stdout"
        }
      ]
    },
    {
      "cell_type": "markdown",
      "metadata": {
        "id": "Li4X93JMP2zv"
      },
      "source": [
        "**having local and global variable with same name in same function**"
      ]
    },
    {
      "cell_type": "code",
      "metadata": {
        "colab": {
          "base_uri": "https://localhost:8080/"
        },
        "id": "CNXaVaOrsP9T",
        "outputId": "fca38302-77fe-40d5-bde8-5f2f49fe93f4"
      },
      "source": [
        "a=10\n",
        "print(id(a))\n",
        "\n",
        "def hello():\n",
        "\n",
        "  a=9 #local\n",
        "\n",
        "  x=globals()['a']  #globals returns all the global variables , so specify which you need\n",
        "  print('local: ',a)\n",
        "  print('global in function: ',x)\n",
        "  print(id(x))  #-->pointing to same address of global a\n",
        "\n",
        "  globals()['a']=15  #-->updating the global variable outside without effecting the local in function\n",
        "\n",
        "hello()\n",
        "\n",
        "print('global outside: ',a)\n"
      ],
      "execution_count": null,
      "outputs": [
        {
          "output_type": "stream",
          "text": [
            "93940312607520\n",
            "local:  9\n",
            "global in function:  10\n",
            "93940312607520\n",
            "global outside:  15\n"
          ],
          "name": "stdout"
        }
      ]
    },
    {
      "cell_type": "markdown",
      "metadata": {
        "id": "6hDensuYTqkO"
      },
      "source": [
        "# **Returning the odd and even elements from a list after passing through function**"
      ]
    },
    {
      "cell_type": "code",
      "metadata": {
        "colab": {
          "base_uri": "https://localhost:8080/"
        },
        "id": "WIL_0ZumsQGk",
        "outputId": "658ae9ea-8036-4d9f-e366-cd1de970e784"
      },
      "source": [
        "lst=[]\n",
        "for i in range(5):\n",
        "     lst.append(int(input('enter numbers: ')))\n",
        "print(lst)\n",
        "\n",
        "even=[]\n",
        "odd=[]\n",
        "def count(x):\n",
        "  for i in x:\n",
        "    if i%2==0:\n",
        "      even.append(i)\n",
        "    else:\n",
        "      odd.append(i)\n",
        "  return even,odd\n",
        "\n",
        "\n",
        "even,odd=count(lst)\n",
        "print(even)\n",
        "print(odd)"
      ],
      "execution_count": null,
      "outputs": [
        {
          "output_type": "stream",
          "text": [
            "enter numbers: 45\n",
            "enter numbers: 34\n",
            "enter numbers: 22\n",
            "enter numbers: 23\n",
            "enter numbers: 12\n",
            "[45, 34, 22, 23, 12]\n",
            "[34, 22, 12]\n",
            "[45, 23]\n"
          ],
          "name": "stdout"
        }
      ]
    },
    {
      "cell_type": "markdown",
      "metadata": {
        "id": "f9JzlA5RWkH_"
      },
      "source": [
        "# **Fibbonacci Seeries:**\n",
        "0 1 1 2 3 5 8 ........**\n"
      ]
    },
    {
      "cell_type": "code",
      "metadata": {
        "colab": {
          "base_uri": "https://localhost:8080/"
        },
        "id": "jDYRPp3csQLL",
        "outputId": "c9b5e303-f970-4d58-b51b-7c9f082d70ab"
      },
      "source": [
        "\n",
        "lis=[]\n",
        "def fib(n):\n",
        "  x=0\n",
        "  y=1\n",
        "  f=0\n",
        "  if n<0:\n",
        "    print('enter only positive numbers ')\n",
        "\n",
        "  elif n==1:\n",
        "    lis.append(x)\n",
        "\n",
        "  else:\n",
        "    lis.append(x)\n",
        "    lis.append(y)\n",
        "\n",
        "\n",
        "    for i in range(2,n):\n",
        "      f=(x+y)\n",
        "      x=y\n",
        "      y=f\n",
        "      lis.append(f)\n",
        "\n",
        "  return lis\n",
        "\n",
        "fib(8)"
      ],
      "execution_count": null,
      "outputs": [
        {
          "output_type": "execute_result",
          "data": {
            "text/plain": [
              "[0, 1, 1, 2, 3, 5, 8, 13]"
            ]
          },
          "metadata": {
            "tags": []
          },
          "execution_count": 33
        }
      ]
    },
    {
      "cell_type": "markdown",
      "metadata": {
        "id": "zNR6R31nbfze"
      },
      "source": [
        "# **Factorial**"
      ]
    },
    {
      "cell_type": "code",
      "metadata": {
        "colab": {
          "base_uri": "https://localhost:8080/"
        },
        "id": "LtfC98aLsQN_",
        "outputId": "9f2a4907-c43f-4540-8ca6-64fa71e9b08a"
      },
      "source": [
        "#6!=1x2x3x4x5x6\n",
        "\n",
        "def fact(n):\n",
        "  f=1\n",
        "  for i in range(1,n+1):\n",
        "    f=f*i\n",
        "\n",
        "  return f\n",
        "\n",
        "fact(5)"
      ],
      "execution_count": null,
      "outputs": [
        {
          "output_type": "execute_result",
          "data": {
            "text/plain": [
              "120"
            ]
          },
          "metadata": {
            "tags": []
          },
          "execution_count": 36
        }
      ]
    },
    {
      "cell_type": "markdown",
      "metadata": {
        "id": "rDgDUtzZ1Wgk"
      },
      "source": [
        "# **Recursion**"
      ]
    },
    {
      "cell_type": "code",
      "metadata": {
        "id": "NL4FP-BZsQQ6"
      },
      "source": [
        "import sys\n",
        "\n",
        "sys.setrecursionlimit(1000)\n",
        "print(sys.getrecursionlimit())\n",
        "\n",
        "i=0\n",
        "def greet():\n",
        "  global i\n",
        "  i+=1\n",
        "\n",
        "  print('hello',i)\n",
        "  greet()\n",
        "\n",
        "greet()"
      ],
      "execution_count": null,
      "outputs": []
    },
    {
      "cell_type": "code",
      "metadata": {
        "colab": {
          "base_uri": "https://localhost:8080/"
        },
        "id": "wyOoVuTpsQU2",
        "outputId": "337061fc-3a64-4a38-c3d0-c83b8cedc739"
      },
      "source": [
        "#6!=1x2x3x4x5x6\n",
        "\n",
        "def fact(n):\n",
        "  if n==0:  #limit deni padegi na\n",
        "    return 1\n",
        "\n",
        "  f=n*fact(n-1)\n",
        "\n",
        "  return f\n",
        "\n",
        "fact(5)"
      ],
      "execution_count": null,
      "outputs": [
        {
          "output_type": "execute_result",
          "data": {
            "text/plain": [
              "120"
            ]
          },
          "metadata": {
            "tags": []
          },
          "execution_count": 44
        }
      ]
    },
    {
      "cell_type": "markdown",
      "metadata": {
        "id": "jNLAXYMV4M3X"
      },
      "source": [
        "# **Anonymous Function: lambda**"
      ]
    },
    {
      "cell_type": "code",
      "metadata": {
        "colab": {
          "base_uri": "https://localhost:8080/"
        },
        "id": "P06LL_YzsQXO",
        "outputId": "55b0f56c-9601-4734-f5cc-1b9e91a1df57"
      },
      "source": [
        "#need to use once tht function and dont want to define name of the function\n",
        "#one expression to return\n",
        "#pass functions to function: functions are object in python\n",
        "#----> Use Lambda\n",
        "\n",
        "#define anonymous functions under Lambda and take arg and return operation in one line\n",
        "#lambda argument: return operation on argument\n",
        "\n",
        "x=lambda a: a*a  #x represents your function as object\n",
        "ans=x(5)  #a=5\n",
        "print(ans)\n",
        "\n",
        "#you can pass any number of arguments but have one expression of all\n",
        "\n",
        "x=lambda a,b,c: a+b+c\n",
        "\n",
        "print(x(4,5,6))\n"
      ],
      "execution_count": null,
      "outputs": [
        {
          "output_type": "stream",
          "text": [
            "25\n",
            "15\n"
          ],
          "name": "stdout"
        }
      ]
    },
    {
      "cell_type": "markdown",
      "metadata": {
        "id": "slfYKYPl8IV6"
      },
      "source": [
        "# **Filter map reduce**"
      ]
    },
    {
      "cell_type": "code",
      "metadata": {
        "colab": {
          "base_uri": "https://localhost:8080/"
        },
        "id": "22PEI2JdsQZi",
        "outputId": "e07d1003-3288-4c8f-8632-05190be9263b"
      },
      "source": [
        "#Function\n",
        "def is_even(n):\n",
        "  return n%2==0\n",
        "\n",
        "nums=[1,2,3,4,5,6,7,88]\n",
        "evens=list(filter(is_even,nums))   #takes in (function , input)\n",
        "print(evens)"
      ],
      "execution_count": null,
      "outputs": [
        {
          "output_type": "stream",
          "text": [
            "[2, 4, 6, 88]\n"
          ],
          "name": "stdout"
        }
      ]
    },
    {
      "cell_type": "code",
      "metadata": {
        "colab": {
          "base_uri": "https://localhost:8080/"
        },
        "id": "1G4dGI4TsQb6",
        "outputId": "2a5f6289-9135-4680-d712-79e33e87a1e4"
      },
      "source": [
        "#anonymous function\n",
        "e=lambda n: n%2==0\n",
        "\n",
        "nums=[1,2,3,4,5,6,7,88]\n",
        "evens=list(filter(e,nums))   #takes in (function , input)\n",
        "print(evens)"
      ],
      "execution_count": null,
      "outputs": [
        {
          "output_type": "stream",
          "text": [
            "[2, 4, 6, 88]\n"
          ],
          "name": "stdout"
        }
      ]
    },
    {
      "cell_type": "code",
      "metadata": {
        "colab": {
          "base_uri": "https://localhost:8080/"
        },
        "id": "9_Spxmfb9A_f",
        "outputId": "cf5fee84-916b-4096-843c-c117c8ca6e24"
      },
      "source": [
        "nums=[1,2,3,4,5,6,7,88]\n",
        "evens=list(filter(lambda n: n%2==0  ,nums))   #takes in (function , input)\n",
        "\n",
        "doubles=list(map(lambda n:n*2, evens))  #takes in (function , iterable) --> used where u want to map values to some other values\n",
        "\n",
        "from functools import reduce\n",
        "sum=reduce(lambda a,b: a+b, doubles)  #takes in function ,sequence # at one takes in two values to reduce\n",
        "\n",
        "print(evens)\n",
        "print(doubles)\n",
        "print(sum)"
      ],
      "execution_count": null,
      "outputs": [
        {
          "output_type": "stream",
          "text": [
            "[2, 4, 6, 88]\n",
            "[4, 8, 12, 176]\n",
            "200\n"
          ],
          "name": "stdout"
        }
      ]
    },
    {
      "cell_type": "markdown",
      "metadata": {
        "id": "L-arMEkYAlNg"
      },
      "source": [
        "# **Decorators**\n",
        "\n",
        "Changing in Function without touching the Function\n",
        "\n",
        "Add extra features in existing function"
      ]
    },
    {
      "cell_type": "code",
      "metadata": {
        "colab": {
          "base_uri": "https://localhost:8080/"
        },
        "id": "7zbRdJPtAlVZ",
        "outputId": "be257537-9c5a-4e3d-c048-c5d4d248fcd2"
      },
      "source": [
        "def div(a,b):\n",
        "  print(a/b)\n",
        "\n",
        "div(2,4)"
      ],
      "execution_count": null,
      "outputs": [
        {
          "output_type": "stream",
          "text": [
            "0.5\n"
          ],
          "name": "stdout"
        }
      ]
    },
    {
      "cell_type": "code",
      "metadata": {
        "colab": {
          "base_uri": "https://localhost:8080/"
        },
        "id": "gfNMbaSgB8nI",
        "outputId": "4978ba57-fa69-41b5-efe0-ac6df1ed25fc"
      },
      "source": [
        "def div(a,b):\n",
        "  print(a/b)\n",
        "\n",
        "#USING: in python, we can have functions inside functions and functions are object\n",
        "\n",
        "def smart_div(func):\n",
        "\n",
        "  def inner(a,b):\n",
        "    if a<b:\n",
        "      a,b=b,a\n",
        "    return func(a,b)\n",
        "\n",
        "  return inner\n",
        "\n",
        "div1=smart_div(div)\n",
        "\n",
        "div1(2,4)"
      ],
      "execution_count": null,
      "outputs": [
        {
          "output_type": "stream",
          "text": [
            "2.0\n"
          ],
          "name": "stdout"
        }
      ]
    },
    {
      "cell_type": "markdown",
      "metadata": {
        "id": "i0IFVrG4dIAp"
      },
      "source": [
        "# **OOPS**"
      ]
    },
    {
      "cell_type": "markdown",
      "metadata": {
        "id": "KVvT_Yz6L5Vo"
      },
      "source": [
        "**class and object**"
      ]
    },
    {
      "cell_type": "code",
      "metadata": {
        "colab": {
          "base_uri": "https://localhost:8080/"
        },
        "id": "dhz7MRBpdII4",
        "outputId": "01163aeb-5858-4a53-8888-9f8384025b71"
      },
      "source": [
        "class Computer:\n",
        "  def config(self):\n",
        "    print('My name is Vyoma')\n",
        "\n",
        "com1=Computer()  #object creation\n",
        "\n",
        "Computer.config(com1)\n",
        "com1.config()  #using object itself to call the method: object apneap le ra method"
      ],
      "execution_count": null,
      "outputs": [
        {
          "output_type": "stream",
          "text": [
            "My name is Vyoma\n",
            "My name is Vyoma\n"
          ],
          "name": "stdout"
        }
      ]
    },
    {
      "cell_type": "markdown",
      "metadata": {
        "id": "b1bqewk_L8S8"
      },
      "source": [
        "__init__ method"
      ]
    },
    {
      "cell_type": "code",
      "metadata": {
        "colab": {
          "base_uri": "https://localhost:8080/"
        },
        "id": "n0QqwFczL8Z3",
        "outputId": "9344df88-a341-42d9-c649-563f9acbef62"
      },
      "source": [
        "class Computer:\n",
        "\n",
        "  def __init__(self,cpu,ram):  #just like constructure, call krne ki no need, to initialise the variables,, special method\n",
        "                               #self for the object itself: com1\n",
        "    self.cpu= cpu #pasing to the object #i5 goes to the argumnet , assigned to self  , object com1 ko variable ki values mil jayegi\n",
        "    self.ram= ram\n",
        "\n",
        "\n",
        "\n",
        "  def config(self):\n",
        "    print('My name is Vyoma')\n",
        "    print(self.cpu,self.ram)\n",
        "\n",
        "com1=Computer('i5',16)\n",
        "\n",
        "#Computer.config(com1)\n",
        "com1.config()"
      ],
      "execution_count": null,
      "outputs": [
        {
          "output_type": "stream",
          "text": [
            "My name is Vyoma\n",
            "i5 16\n"
          ],
          "name": "stdout"
        }
      ]
    },
    {
      "cell_type": "markdown",
      "metadata": {
        "id": "eX8uStHEQ7cb"
      },
      "source": [
        "1. **size of the object in heap:**\n",
        "depends on the size of each variable and number of variables\n",
        "\n",
        "2. **who allocates size of object:** Constructor\n"
      ]
    },
    {
      "cell_type": "code",
      "metadata": {
        "colab": {
          "base_uri": "https://localhost:8080/"
        },
        "id": "qmrPt1ltSaBq",
        "outputId": "fa01cc15-9145-4768-9963-8673580f6428"
      },
      "source": [
        "class Computer:\n",
        "\n",
        "  def __init__(self):\n",
        "    self.name='Vyoma'\n",
        "    self.age=34\n",
        "\n",
        "  def update(self):\n",
        "    self.age=24\n",
        "\n",
        "  def compare(self,other):\n",
        "    if self.age==other.age:\n",
        "      return True\n",
        "    else:\n",
        "      return False\n",
        "\n",
        "\n",
        "com1=Computer()\n",
        "com2=Computer()\n",
        "print(id(com1))  #differnt address\n",
        "print(id(com2))\n",
        "\n",
        "com1.update()\n",
        "\n",
        "com1.name='Deep'\n",
        "\n",
        "print(com1.name)  #changing\n",
        "print(com2.name)\n",
        "\n",
        "print(com1.age)  #updated\n",
        "print(com2.age)\n",
        "\n",
        "if com1.compare(com2):  #com1 to self,,,, com2 to other\n",
        "  print('same')\n",
        "else:\n",
        "  print('diff')"
      ],
      "execution_count": null,
      "outputs": [
        {
          "output_type": "stream",
          "text": [
            "139856403242128\n",
            "139856403241168\n",
            "Deep\n",
            "Vyoma\n",
            "24\n",
            "34\n",
            "diff\n"
          ],
          "name": "stdout"
        }
      ]
    },
    {
      "cell_type": "markdown",
      "metadata": {
        "id": "qVa9u6LEWd77"
      },
      "source": [
        "Types of variables: instance and class"
      ]
    },
    {
      "cell_type": "code",
      "metadata": {
        "colab": {
          "base_uri": "https://localhost:8080/"
        },
        "id": "G-wQ51qJWi6L",
        "outputId": "2e969e4e-cc30-4471-f1dd-60e65405d4ee"
      },
      "source": [
        "class Computer:\n",
        "\n",
        "  wheels=4   #class variable\n",
        "\n",
        "  def __init__(self):\n",
        "\n",
        "    #instance variable: can be changed outside class: inside init\n",
        "    self.mil=10\n",
        "    self.car='BMW'\n",
        "\n",
        "\n",
        "\n",
        "\n",
        "com1=Computer()\n",
        "com2=Computer()\n",
        "\n",
        "com1.mil=5  #change for only com1 object, not com2 object\n",
        "\n",
        "Computer.wheels=6  #will change for all objects , shared\n",
        "\n",
        "print(com1.mil, com1.car, com1.wheels)\n",
        "\n",
        "print(com2.mil, com2.car, com2.wheels)"
      ],
      "execution_count": null,
      "outputs": [
        {
          "output_type": "stream",
          "text": [
            "5 BMW 6\n",
            "10 BMW 6\n"
          ],
          "name": "stdout"
        }
      ]
    },
    {
      "cell_type": "markdown",
      "metadata": {
        "id": "IQAKpONoYH8H"
      },
      "source": [
        "Types of method: class, instance and static"
      ]
    },
    {
      "cell_type": "code",
      "metadata": {
        "colab": {
          "base_uri": "https://localhost:8080/"
        },
        "id": "fJdfNoWqYHEh",
        "outputId": "d7942957-bffb-489d-9812-99caf824054e"
      },
      "source": [
        "#when working with instance methd: use self  : instance variables\n",
        "#with class method : use cls : for class variables\n",
        "#with static method: not concerned with any variable\n",
        "\n",
        "\n",
        "class students:\n",
        "\n",
        "  school='dewan'  #static variable    can be used with class method not instance method\n",
        "\n",
        "  def __init__(self,m1,m2,m3):\n",
        "    self.m1=m1   #m1,m2,m3 => instance variables with instance method\n",
        "    self.m2=m2\n",
        "    self.m3=m3\n",
        "\n",
        "  def avg(self):   #instance method as we are passing self to get the object s1 or s2 in this\n",
        "\n",
        "    return (self.m1 + self.m2 + self.m3)/3\n",
        "\n",
        "  # Types of instance methods:\n",
        "  #accessor method: when fetching te instance variable say m2  #--> getters\n",
        "  #mutator method: when want to modify the value of variable say m1  #---> setters\n",
        "\n",
        "  def get_m1(self):   #accessor-->getters\n",
        "    return self.m1\n",
        "\n",
        "  def set_m1(self,value):  #mutator==> setters\\\\\n",
        "    self.m1=value\n",
        "\n",
        "  @classmethod  #to use classmethod need to define as classmethod using DECORATOR\n",
        "  def getschoolname(cls):\n",
        "    return cls.school  #class variable: cls.var\n",
        "\n",
        "  @staticmethod\n",
        "  def info():\n",
        "    print('hello vyoma')\n",
        "    return True\n",
        "\n",
        "s1=students(33,45,67)\n",
        "s2=students(31,65,17)\n",
        "\n",
        "print(s1.avg())\n",
        "print(s2.avg())\n",
        "\n",
        "print(students.getschoolname())\n",
        "\n",
        "print('hi',students.info())\n"
      ],
      "execution_count": null,
      "outputs": [
        {
          "output_type": "stream",
          "text": [
            "48.333333333333336\n",
            "37.666666666666664\n",
            "dewan\n",
            "hello vyoma\n",
            "hi True\n"
          ],
          "name": "stdout"
        }
      ]
    },
    {
      "cell_type": "markdown",
      "source": [
        "## **Encapsulation**"
      ],
      "metadata": {
        "id": "KY0J67IzQk34"
      }
    },
    {
      "cell_type": "code",
      "source": [
        "# Python program to\n",
        "# demonstrate private members\n",
        "\n",
        "# Creating a Base class\n",
        "class Base:\n",
        "    def __init__(self):\n",
        "        self.a = \"GeeksforGeeks\"\n",
        "        self.__c = \"GeeksforGeeks\"\n",
        "\n",
        "# Creating a derived class\n",
        "class Derived(Base):\n",
        "    def __init__(self):\n",
        "\n",
        "        # Calling constructor of\n",
        "        # Base class\n",
        "        Base.__init__(self)\n",
        "        print(\"Calling private member of base class: \")\n",
        "        print(self.__c)\n",
        "\n",
        "\n",
        "# Driver code\n",
        "obj1 = Base()\n",
        "print(obj1.a)\n",
        "\n",
        "# Uncommenting print(obj1.c) will\n",
        "# raise an AttributeError\n",
        "\n",
        "# Uncommenting obj2 = Derived() will\n",
        "# also raise an AtrributeError as\n",
        "# private member of base class\n",
        "# is called inside derived class"
      ],
      "metadata": {
        "id": "ewtxScxWQlVF"
      },
      "execution_count": null,
      "outputs": []
    },
    {
      "cell_type": "markdown",
      "metadata": {
        "id": "neRplgYgf4bW"
      },
      "source": [
        "## **Inner Class**"
      ]
    },
    {
      "cell_type": "markdown",
      "metadata": {
        "id": "m4tbMpGkiAEy"
      },
      "source": [
        "* creating the object of inner class inside the outer class\n",
        "\n",
        "* creating the object of inner class outside the outer class provided you call it using the outer class name"
      ]
    },
    {
      "cell_type": "code",
      "metadata": {
        "colab": {
          "base_uri": "https://localhost:8080/"
        },
        "id": "QPu1Cw_tf35K",
        "outputId": "01bad74b-3535-4455-c474-4fe32e3c9319"
      },
      "source": [
        "class student:\n",
        "  def __init__(self,name,roll):\n",
        "    self.name=name\n",
        "    self.roll=roll\n",
        "    #self.lap=self.laptop()   #object of laptop(inner class) inside outer class\n",
        "\n",
        "  def show(self):\n",
        "    print(self.name,self.roll)\n",
        "\n",
        "  class laptop:    #----INNER CLASS--\n",
        "    def __init__(self):\n",
        "      self.cpu='i5'\n",
        "      self.brand='dell'\n",
        "\n",
        "s1=student('Vyoma',20)\n",
        "s1.show()\n",
        "\n",
        "#s1.lap.brand   #lap is in student class. so object of student =s1, then object of laptop=lap\n",
        "\n",
        "\n",
        "#lap1=s1.lap\n",
        "#lap1.brand\n",
        "\n",
        "\n",
        "#creating object for inner class outside the outer class\n",
        "lap1=student.laptop()\n",
        "lap1.brand\n"
      ],
      "execution_count": null,
      "outputs": [
        {
          "output_type": "stream",
          "text": [
            "Vyoma 20\n"
          ],
          "name": "stdout"
        },
        {
          "output_type": "execute_result",
          "data": {
            "application/vnd.google.colaboratory.intrinsic+json": {
              "type": "string"
            },
            "text/plain": [
              "'dell'"
            ]
          },
          "metadata": {
            "tags": []
          },
          "execution_count": 8
        }
      ]
    },
    {
      "cell_type": "markdown",
      "metadata": {
        "id": "FanwA9GMy0na"
      },
      "source": [
        "we can create another method with the same name"
      ]
    },
    {
      "cell_type": "code",
      "metadata": {
        "colab": {
          "base_uri": "https://localhost:8080/"
        },
        "id": "TwTBC_0pj35M",
        "outputId": "9a4be6d9-1b17-4ca5-f310-235f39d02a14"
      },
      "source": [
        "class student:\n",
        "  def __init__(self,name,roll):\n",
        "    self.name=name\n",
        "    self.roll=roll\n",
        "    self.lap=self.laptop()   #object of laptop(inner class) inside outer class\n",
        "\n",
        "  def show(self):\n",
        "    print(self.name,self.roll)\n",
        "    self.lap.show()\n",
        "\n",
        "  class laptop:    #----INNER CLASS--\n",
        "    def __init__(self):\n",
        "      self.cpu='i5'\n",
        "      self.brand='dell'\n",
        "\n",
        "    def show(self):   #we can create another method with the same name\n",
        "      print(self.brand,self.cpu)\n",
        "\n",
        "s1=student('Vyoma',20)\n",
        "s1.show()\n",
        "\n",
        "#s1.lap.brand   #lap is in student class. so object of student =s1, then object of laptop=lap\n",
        "\n",
        "\n",
        "#lap1=s1.lap\n",
        "#lap1.brand\n",
        "\n",
        "\n",
        "#creating object for inner class outside the outer class\n",
        "#lap1=student.laptop()\n",
        "#lap1.brand\n"
      ],
      "execution_count": null,
      "outputs": [
        {
          "output_type": "stream",
          "text": [
            "Vyoma 20\n",
            "dell i5\n"
          ],
          "name": "stdout"
        }
      ]
    },
    {
      "cell_type": "markdown",
      "metadata": {
        "id": "ZKjsdSNOzYrW"
      },
      "source": [
        "## **Inheritance**\n",
        "\n",
        "using features of existing class"
      ]
    },
    {
      "cell_type": "markdown",
      "metadata": {
        "id": "KSJBaJv01Jip"
      },
      "source": [
        "Single Level"
      ]
    },
    {
      "cell_type": "code",
      "metadata": {
        "colab": {
          "base_uri": "https://localhost:8080/"
        },
        "id": "lK0wkfw7zYzP",
        "outputId": "cbc14fcb-6437-47f2-f80d-7a9e19f35d10"
      },
      "source": [
        "class A:  #---->  Super Class/ Parent Class\n",
        "  def feature1(self):\n",
        "    print('feature1')\n",
        "\n",
        "  def feature2(self):\n",
        "    print('feature2')\n",
        "\n",
        "class B(A):     #--> Sub Class/CHild Class, inherting the methods of A.\n",
        "  def feature3(self):\n",
        "    print('feature3')\n",
        "\n",
        "  def feature4(self):\n",
        "    print('feature4')\n",
        "\n",
        "a1=A()\n",
        "#a1.feature1()\n",
        "\n",
        "b1=B()\n",
        "b1.feature1()"
      ],
      "execution_count": null,
      "outputs": [
        {
          "output_type": "stream",
          "text": [
            "feature1\n"
          ],
          "name": "stdout"
        }
      ]
    },
    {
      "cell_type": "markdown",
      "metadata": {
        "id": "VfYaPRsJ1LJM"
      },
      "source": [
        "Multi level: B inherits A and C inherits B (means of A and B both)"
      ]
    },
    {
      "cell_type": "code",
      "metadata": {
        "colab": {
          "base_uri": "https://localhost:8080/"
        },
        "id": "T1X_1-R20pyy",
        "outputId": "f15e32b8-bbdb-4c11-9d90-413b8ae8177a"
      },
      "source": [
        "class A:  #---->  Super Class/ GrandParent Class\n",
        "  def feature1(self):\n",
        "    print('feature1')\n",
        "\n",
        "  def feature2(self):\n",
        "    print('feature2')\n",
        "\n",
        "class B(A):     #--> Sub Class1/Parent Class, inherting the methods of A.\n",
        "  def feature3(self):\n",
        "    print('feature3')\n",
        "\n",
        "  def feature4(self):\n",
        "    print('feature4')\n",
        "\n",
        "class C(B):  #--> Sub Class2 of super class (parent here--sub class1) /Child Class, inherting the methods of A and B.\n",
        "  def feature5(self):\n",
        "    print('feature5')\n",
        "\n",
        "a1=A()\n",
        "#a1.feature1()\n",
        "\n",
        "b1=B()\n",
        "#b1.feature1()\n",
        "\n",
        "c1=C()\n",
        "c1.feature1()"
      ],
      "execution_count": null,
      "outputs": [
        {
          "output_type": "stream",
          "text": [
            "feature1\n"
          ],
          "name": "stdout"
        }
      ]
    },
    {
      "cell_type": "markdown",
      "metadata": {
        "id": "f3875CR-2A7L"
      },
      "source": [
        "Multiple Inheritance--> C inherting both A and B"
      ]
    },
    {
      "cell_type": "code",
      "metadata": {
        "colab": {
          "base_uri": "https://localhost:8080/"
        },
        "id": "85-IUGuM2BF4",
        "outputId": "9fb68586-7ace-46d9-be75-e44fddf105af"
      },
      "source": [
        "class A:  #---->  Parent Class1\n",
        "  def feature1(self):\n",
        "    print('feature1')\n",
        "\n",
        "  def feature2(self):\n",
        "    print('feature2')\n",
        "\n",
        "class B():     #--> Parent Class2.\n",
        "  def feature3(self):\n",
        "    print('feature3')\n",
        "\n",
        "  def feature4(self):\n",
        "    print('feature4')\n",
        "\n",
        "class C(A,B):  #--> Sub Class of super class(Parent1 and Parent2 )/Child Class, inherting the methods of A and B.\n",
        "  def feature5(self):\n",
        "    print('feature5')\n",
        "\n",
        "a1=A()\n",
        "#a1.feature1()\n",
        "\n",
        "b1=B()\n",
        "b1.feature3()\n",
        "\n",
        "c1=C()\n",
        "c1.feature1()"
      ],
      "execution_count": null,
      "outputs": [
        {
          "output_type": "stream",
          "text": [
            "feature3\n",
            "feature1\n"
          ],
          "name": "stdout"
        }
      ]
    },
    {
      "cell_type": "markdown",
      "metadata": {
        "id": "enIkQaXb3lgY"
      },
      "source": [
        "Constructor in inheritance"
      ]
    },
    {
      "cell_type": "code",
      "metadata": {
        "colab": {
          "base_uri": "https://localhost:8080/"
        },
        "id": "taezZjFF3kus",
        "outputId": "0313a07c-c24f-4eca-8c32-6833b7450c2a"
      },
      "source": [
        "class A:  #---->  Super Class/ Parent Class\n",
        "\n",
        "  def __init__(self):\n",
        "    print('init in A ')\n",
        "\n",
        "  def feature1(self):\n",
        "    print('feature1')\n",
        "\n",
        "  def feature2(self):\n",
        "    print('feature2')\n",
        "\n",
        "class B(A):     #--> Sub Class/CHild Class, inherting the methods of A.\n",
        "  def feature3(self):\n",
        "    print('feature3')\n",
        "\n",
        "  def feature4(self):\n",
        "    print('feature4')\n",
        "\n",
        "#a1=A()\n",
        "#a1.feature1()\n",
        "\n",
        "b1=B()  #object of child class will still call the constructor of parent class\n",
        "        #SINCE IT IS NOT HAVING IT'S init METHOD, THATS WHY IT IS GOING TO A .\n",
        "b1.feature1()"
      ],
      "execution_count": null,
      "outputs": [
        {
          "output_type": "stream",
          "text": [
            "init in A \n",
            "feature1\n"
          ],
          "name": "stdout"
        }
      ]
    },
    {
      "cell_type": "code",
      "metadata": {
        "colab": {
          "base_uri": "https://localhost:8080/"
        },
        "id": "qAFbjFa84Lv2",
        "outputId": "d959772f-bb3d-4d17-b8bd-9dd1a95cb259"
      },
      "source": [
        "class A:  #---->  Super Class/ Parent Class\n",
        "\n",
        "  def __init__(self):\n",
        "    print('init in A ')\n",
        "\n",
        "  def feature1(self):\n",
        "    print('feature1')\n",
        "\n",
        "  def feature2(self):\n",
        "    print('feature2')\n",
        "\n",
        "class B(A):     #--> Sub Class/CHild Class, inherting the methods of A.\n",
        "  def __init__(self):\n",
        "    print('init in B')\n",
        "\n",
        "  def feature3(self):\n",
        "    print('feature3')\n",
        "\n",
        "  def feature4(self):\n",
        "    print('feature4')\n",
        "\n",
        "#a1=A()\n",
        "#a1.feature1()\n",
        "\n",
        "b1=B()  #object of child class will call the constructor of its OWN.\n",
        "b1.feature1()"
      ],
      "execution_count": null,
      "outputs": [
        {
          "output_type": "stream",
          "text": [
            "init in B\n",
            "feature1\n"
          ],
          "name": "stdout"
        }
      ]
    },
    {
      "cell_type": "code",
      "metadata": {
        "colab": {
          "base_uri": "https://localhost:8080/"
        },
        "id": "kk9b0TrP4q9d",
        "outputId": "2111bb2e-73fe-4bac-ad33-f96906079154"
      },
      "source": [
        "class A:  #---->  Super Class/ Parent Class\n",
        "\n",
        "  def __init__(self):\n",
        "    print('init in A ')\n",
        "\n",
        "  def feature1(self):\n",
        "    print('feature1')\n",
        "\n",
        "  def feature2(self):\n",
        "    print('feature2')\n",
        "\n",
        "class B(A):     #--> Sub Class/CHild Class, inherting the methods of A.\n",
        "\n",
        "  def __init__(self):\n",
        "    super().__init__()   #to get the features from super class , we use uper keyword\n",
        "    print('init in B')\n",
        "\n",
        "  def feature3(self):\n",
        "    print('feature3')\n",
        "\n",
        "  def feature4(self):\n",
        "    print('feature4')\n",
        "\n",
        "#a1=A()\n",
        "#a1.feature1()\n",
        "\n",
        "b1=B()  #object of child class will call the constructor of the Super Class and its own.\n",
        "b1.feature1()"
      ],
      "execution_count": null,
      "outputs": [
        {
          "output_type": "stream",
          "text": [
            "init in A \n",
            "init in B\n",
            "feature1\n"
          ],
          "name": "stdout"
        }
      ]
    },
    {
      "cell_type": "markdown",
      "metadata": {
        "id": "ETgj3mzV5REw"
      },
      "source": [
        "Multiple Inheritance:::::::Calling the init of two super classes from the child"
      ]
    },
    {
      "cell_type": "code",
      "metadata": {
        "colab": {
          "base_uri": "https://localhost:8080/"
        },
        "id": "Ot1iHXcb5YF5",
        "outputId": "d54587ed-87f1-4255-837b-f72e30329b0a"
      },
      "source": [
        "class A:  #---->  Super Class/ Parent Class\n",
        "\n",
        "  def __init__(self):\n",
        "    print('init in A ')\n",
        "\n",
        "  def feature1(self):\n",
        "    print('feature1-A')\n",
        "\n",
        "  def feature2(self):\n",
        "    print('feature2')\n",
        "\n",
        "class B():     #--> Sub Class/CHild Class, inherting the methods of A.\n",
        "\n",
        "  def __init__(self):\n",
        "    print('init in B')\n",
        "\n",
        "  def feature1(self):\n",
        "    print('feature1-B')\n",
        "\n",
        "  def feature4(self):\n",
        "    print('feature4')\n",
        "\n",
        "class C(A,B):     #IN MULTIPLE INHERITANCE,,,, it PREFERS FROM Left to Right---> METHOD RESOLUTION ORDER\n",
        "  def __init__(self):\n",
        "    super().__init__()  #will get the init of A ::: biased\n",
        "    super().feature2()   #can other methodds from super class as well\n",
        "    print('init in C ')\n",
        "\n",
        "\n",
        "c1=C()\n",
        "c1.feature1()   #it will go to its left first , that is A."
      ],
      "execution_count": null,
      "outputs": [
        {
          "output_type": "stream",
          "text": [
            "init in A \n",
            "feature2\n",
            "init in C \n",
            "feature1-A\n"
          ],
          "name": "stdout"
        }
      ]
    },
    {
      "cell_type": "markdown",
      "metadata": {
        "id": "nvg1q9QV7Ggo"
      },
      "source": [
        "## **Ploymorphism**:::\n",
        "\n",
        "meaning Many forms\n",
        "\n",
        "\n",
        "\n",
        "*   Duck typing\n",
        "*   Operator Overloading\n",
        "*   Method Overloading\n",
        "*   Method Overriding\n",
        "\n"
      ]
    },
    {
      "cell_type": "markdown",
      "metadata": {
        "id": "x91hxRjt9RHm"
      },
      "source": [
        "Duck typing"
      ]
    },
    {
      "cell_type": "code",
      "metadata": {
        "colab": {
          "base_uri": "https://localhost:8080/"
        },
        "id": "mUeppzmj7GnJ",
        "outputId": "2309cae6-bb75-40f2-d89f-e44873875bc6"
      },
      "source": [
        "#In python we can differnt data types with the same varaible name:\n",
        "#DYNAMIC TYPING\n",
        "x=5\n",
        "x='VYoma'\n",
        "\n",
        "#these will be stored in two differnt memories\n",
        "\n",
        "#same for classes:\n",
        "\n",
        "class Pycharm:\n",
        "  def execute(self):\n",
        "    print('Pycharm')\n",
        "\n",
        "class MyEditor:\n",
        "  def execute(self):    #YoU HAVE TO KEEP THE METHOD NAME SAME , No matter what\n",
        "     print('My editor')\n",
        "\n",
        "class Vyoma:\n",
        "  def code(self, ide):   #passing the object of another class as argument\n",
        "    ide.execute()        #callimg the method of another class\n",
        "\n",
        "\n",
        "#i=Pycharm()   #object of Pycharm class\n",
        "i=MyEditor()   #changing the type of ide(object to call) provided the method names are same\n",
        "\n",
        "vyo= Vyoma()\n",
        "vyo.code(i)    #passing the object of another to another"
      ],
      "execution_count": null,
      "outputs": [
        {
          "output_type": "stream",
          "text": [
            "My editor\n"
          ],
          "name": "stdout"
        }
      ]
    },
    {
      "cell_type": "markdown",
      "metadata": {
        "id": "YHca1072_7ij"
      },
      "source": [
        "Operator Overloading"
      ]
    },
    {
      "cell_type": "code",
      "metadata": {
        "colab": {
          "base_uri": "https://localhost:8080/"
        },
        "id": "PS6SrLw09lHa",
        "outputId": "23dd89d4-5287-4536-b300-02090cd3e044"
      },
      "source": [
        "a=5\n",
        "b=6\n",
        "\n",
        "print(a+b)\n",
        "\n",
        "print(int.__add__(a,b))\n",
        "#int class--> method add behind the scenes\n",
        "\n",
        "\n",
        "class student:\n",
        "  def __init__(self,m1,m2):\n",
        "    self.m1=m1\n",
        "    self.m2=m2\n",
        "\n",
        "  def __add__(self,other):\n",
        "    m1=self.m1 + other.m1\n",
        "    m2=self.m2 + other.m2\n",
        "    p3= student(m1,m2)\n",
        "    return p3\n",
        "\n",
        "\n",
        "s1=student(7,8)\n",
        "s2=student(1,2)\n",
        "\n",
        "s3=s1+s2\n",
        "print(s3.m1)"
      ],
      "execution_count": null,
      "outputs": [
        {
          "output_type": "stream",
          "name": "stdout",
          "text": [
            "11\n",
            "11\n",
            "8\n"
          ]
        }
      ]
    },
    {
      "cell_type": "markdown",
      "metadata": {
        "id": "glD7SiHTFALV"
      },
      "source": [
        "Methods overriding and overloading\n",
        "\n",
        "\n",
        "In python : NO method overloading is there : creating method with same name but with different number of arguments in same class\n",
        "\n",
        "Method overriding: creating method with same name and same number of argumnts but in diffrent class(inheritance mei use hota)\n",
        "\n"
      ]
    },
    {
      "cell_type": "code",
      "metadata": {
        "colab": {
          "base_uri": "https://localhost:8080/"
        },
        "id": "UDG_ITQVFAB6",
        "outputId": "20f649be-5112-48ad-83e1-b94b0f4e5274"
      },
      "source": [
        "                      # (---Method Overloading with tricks---)\n",
        "\n",
        "class Student:\n",
        "\n",
        "    def __init__(self,m1,m2):\n",
        "        self.m1 = m1\n",
        "        self.m2 = m2\n",
        "\n",
        "    def sum(self,a=None,b=None,c=None):\n",
        "\n",
        "      s = 0\n",
        "\n",
        "      if a!=None and b!=None and c!=None:\n",
        "           s = a+b+c\n",
        "      elif a!=None and b!=None:\n",
        "            s = a+b\n",
        "      else:\n",
        "            s = a\n",
        "\n",
        "      return s\n",
        "\n",
        "s1 = Student(58,69)\n",
        "print(s1.sum(5))"
      ],
      "execution_count": null,
      "outputs": [
        {
          "output_type": "stream",
          "text": [
            "5\n"
          ],
          "name": "stdout"
        }
      ]
    },
    {
      "cell_type": "code",
      "metadata": {
        "colab": {
          "base_uri": "https://localhost:8080/"
        },
        "id": "JYaW6SaiIRM6",
        "outputId": "2f43adb6-7987-4ae2-93bb-d3638ca6f6f0"
      },
      "source": [
        "                        #(---Method Overriding---)\n",
        "\n",
        "class A:\n",
        "\n",
        "    def show(self):\n",
        "        print(\"in A Show\")\n",
        "\n",
        "class B(A):\n",
        "\n",
        "    def show(self):   #method with same name and same number of arguments\n",
        "                      #calls method of subclass\n",
        "                      #overrides the show method of A, which it can call because of inheritance\n",
        "        super().show() # calling super class method\n",
        "        print(\"in B Show\")\n",
        "\n",
        "\n",
        "a1 = B()\n",
        "a1.show()"
      ],
      "execution_count": null,
      "outputs": [
        {
          "output_type": "stream",
          "name": "stdout",
          "text": [
            "in A Show\n",
            "in B Show\n"
          ]
        }
      ]
    },
    {
      "cell_type": "markdown",
      "metadata": {
        "id": "p7JXsTexLM7_"
      },
      "source": [
        "# **Abstract class and method**\n",
        "\n",
        "abstract method: no body\n",
        "\n",
        "abstract class:having abstract method with no body,, must have atleast one abstract method\n",
        "\n",
        "\n",
        "but in python we dont have abstract class concept by default,,, we create by using some tricks that is import ABC"
      ]
    },
    {
      "cell_type": "code",
      "metadata": {
        "id": "lmtCrEbUJLjw"
      },
      "source": [
        "#not abstract class yet\n",
        "\n",
        "class vyoma:\n",
        "  def code(self):\n",
        "    pass\n",
        "\n",
        "s=vyoma()\n",
        "s.code()"
      ],
      "execution_count": null,
      "outputs": []
    },
    {
      "cell_type": "markdown",
      "metadata": {
        "id": "kppCChEyMiwE"
      },
      "source": [
        "if you abstract class and you cant get object of it because we have a method which is not defined"
      ]
    },
    {
      "cell_type": "code",
      "metadata": {
        "colab": {
          "base_uri": "https://localhost:8080/",
          "height": 214
        },
        "id": "PpU9qG0UMGYF",
        "outputId": "1259049a-aaf9-463b-c698-336d1fe7f775"
      },
      "source": [
        "from abc import ABC, abstractmethod   #ABC=Abstract Base Class\n",
        "class vyoma(ABC):   #just decalared\n",
        "  @abstractmethod\n",
        "  def code(self):\n",
        "    pass\n",
        "\n",
        "s=vyoma()\n",
        "s.code()\n"
      ],
      "execution_count": null,
      "outputs": [
        {
          "output_type": "error",
          "ename": "TypeError",
          "evalue": "ignored",
          "traceback": [
            "\u001b[0;31m---------------------------------------------------------------------------\u001b[0m",
            "\u001b[0;31mTypeError\u001b[0m                                 Traceback (most recent call last)",
            "\u001b[0;32m<ipython-input-48-7de0d01825d6>\u001b[0m in \u001b[0;36m<module>\u001b[0;34m()\u001b[0m\n\u001b[1;32m      5\u001b[0m     \u001b[0;32mpass\u001b[0m\u001b[0;34m\u001b[0m\u001b[0;34m\u001b[0m\u001b[0m\n\u001b[1;32m      6\u001b[0m \u001b[0;34m\u001b[0m\u001b[0m\n\u001b[0;32m----> 7\u001b[0;31m \u001b[0ms\u001b[0m\u001b[0;34m=\u001b[0m\u001b[0mvyoma\u001b[0m\u001b[0;34m(\u001b[0m\u001b[0;34m)\u001b[0m\u001b[0;34m\u001b[0m\u001b[0;34m\u001b[0m\u001b[0m\n\u001b[0m\u001b[1;32m      8\u001b[0m \u001b[0ms\u001b[0m\u001b[0;34m.\u001b[0m\u001b[0mcode\u001b[0m\u001b[0;34m(\u001b[0m\u001b[0;34m)\u001b[0m\u001b[0;34m\u001b[0m\u001b[0;34m\u001b[0m\u001b[0m\n",
            "\u001b[0;31mTypeError\u001b[0m: Can't instantiate abstract class vyoma with abstract methods code"
          ]
        }
      ]
    },
    {
      "cell_type": "code",
      "metadata": {
        "colab": {
          "base_uri": "https://localhost:8080/"
        },
        "id": "GTCwy-KDM4Y_",
        "outputId": "bcb0da34-e673-4334-d206-16b6e036c1bb"
      },
      "source": [
        "from abc import ABC, abstractmethod   #ABC=Abstract Base Class\n",
        "class vyoma(ABC):   #just decalared\n",
        "  @abstractmethod\n",
        "  def code(self):\n",
        "    pass\n",
        "\n",
        "class another(vyoma):\n",
        "  def code(self):\n",
        "    print(7)\n",
        "\n",
        "#s=vyoma()\n",
        "p=another() #compulsory to define the method named as code , otherwise it is still abstract and object cnt be created\n",
        "p.code()\n"
      ],
      "execution_count": null,
      "outputs": [
        {
          "output_type": "stream",
          "text": [
            "7\n"
          ],
          "name": "stdout"
        }
      ]
    },
    {
      "cell_type": "markdown",
      "metadata": {
        "id": "VNJNFtlsPa2S"
      },
      "source": [
        "# **Iterator**"
      ]
    },
    {
      "cell_type": "code",
      "metadata": {
        "colab": {
          "base_uri": "https://localhost:8080/"
        },
        "id": "aVcPDlYYPcNp",
        "outputId": "6a576045-9b3f-42a7-fff6-e85f1a1211d8"
      },
      "source": [
        "nums=[1,2,3,4,5]\n",
        "\n",
        "it=iter(nums)\n",
        "\n",
        "print(it.__next__())\n",
        "print(it.__next__())  #preserves the previous state and gives out the next value without using index\n",
        "print(it.__next__())\n",
        "print(next(it))"
      ],
      "execution_count": null,
      "outputs": [
        {
          "output_type": "stream",
          "text": [
            "1\n",
            "2\n",
            "3\n",
            "4\n"
          ],
          "name": "stdout"
        }
      ]
    },
    {
      "cell_type": "code",
      "metadata": {
        "colab": {
          "base_uri": "https://localhost:8080/"
        },
        "id": "IPfRmoR5Rp59",
        "outputId": "c1a8f53c-ff2e-4186-f21a-bd8804b75627"
      },
      "source": [
        "class TopTen:\n",
        "  def __init__(self):\n",
        "    self.num = 1\n",
        "\n",
        "  def __iter__(self):\n",
        "    return self\n",
        "\n",
        "  def __next__(self):\n",
        "\n",
        "    if self.num <= 10:\n",
        "      val = self.num\n",
        "      self.num += 1\n",
        "\n",
        "      return val\n",
        "    else:\n",
        "      raise StopIteration #to stop a for loop\n",
        "\n",
        "\n",
        "values = TopTen()\n",
        "\n",
        "print(next(values))\n",
        "\n",
        "# print(values.__next__())\n",
        "# print(values.__next__())\n",
        "\n",
        "for i in values:  #will start after the 1st state of next, for mei bhi in built  ext method hota -->2to10\n",
        "     print(i)"
      ],
      "execution_count": null,
      "outputs": [
        {
          "output_type": "stream",
          "text": [
            "1\n"
          ],
          "name": "stdout"
        }
      ]
    },
    {
      "cell_type": "markdown",
      "metadata": {
        "id": "oTIBp6V6RqQv"
      },
      "source": [
        "oonly way to stop a for loop is raise an exception StopIteration"
      ]
    },
    {
      "cell_type": "markdown",
      "metadata": {
        "id": "VT8PhRUnUCDG"
      },
      "source": [
        "# **generators**"
      ]
    },
    {
      "cell_type": "markdown",
      "metadata": {
        "id": "FSrMyGQBUfUw"
      },
      "source": [
        "creates an iterator yield craetes its object,, so use next to get the values"
      ]
    },
    {
      "cell_type": "code",
      "metadata": {
        "colab": {
          "base_uri": "https://localhost:8080/"
        },
        "id": "rlh7DLZ4UDub",
        "outputId": "ca759432-9d70-4ad3-8a85-9e53b970763f"
      },
      "source": [
        "def topten():\n",
        "\n",
        "     yield 1\n",
        "     yield 2\n",
        "     yield 3\n",
        "     yield 4\n",
        "\n",
        "values =  topten()\n",
        "\n",
        "print(values.__next__())\n",
        "print(values.__next__())"
      ],
      "execution_count": null,
      "outputs": [
        {
          "output_type": "stream",
          "text": [
            "1\n",
            "2\n"
          ],
          "name": "stdout"
        }
      ]
    },
    {
      "cell_type": "code",
      "metadata": {
        "id": "7A0swG1UUWIJ"
      },
      "source": [
        "def topten():\n",
        "\n",
        "    n = 1\n",
        "\n",
        "    while n <= 10:\n",
        "        sq = n*n\n",
        "        yield sq\n",
        "        n += 1\n",
        "\n",
        "\n",
        "values =  topten()\n",
        "\n",
        "for i in values:\n",
        "    print(i)"
      ],
      "execution_count": null,
      "outputs": []
    },
    {
      "cell_type": "markdown",
      "metadata": {
        "id": "Cf44YmMBZh-X"
      },
      "source": [
        "# **Exception handling**"
      ]
    },
    {
      "cell_type": "code",
      "metadata": {
        "colab": {
          "base_uri": "https://localhost:8080/"
        },
        "id": "LhW3zSD7ZiHP",
        "outputId": "75edfe4f-8c6d-4efd-c79b-4ae373dd9cff"
      },
      "source": [
        "#runtime error\n",
        "\n",
        "a=8\n",
        "b=0\n",
        "\n",
        "\n",
        "try:\n",
        "\n",
        "  k=int(input('Enter number'))\n",
        "  print(k)   #jase hi ek error ayi, it will jump out of loop and prints the exception\n",
        "\n",
        "  print(a/b)\n",
        "\n",
        "\n",
        "except ZeroDivisionError as e:\n",
        "  print('cant divide by zero:',e)\n",
        "\n",
        "except ValueError as e:\n",
        "  print('input input:',e)\n",
        "\n",
        "except Exception as e:   #whenever error\n",
        "  print('WRONG',e)\n",
        "\n",
        "\n",
        "finally:    #will be executed even if we get the error or not\n",
        "  print('closed')\n"
      ],
      "execution_count": null,
      "outputs": [
        {
          "output_type": "stream",
          "text": [
            "Enter numberp\n",
            "input input: invalid literal for int() with base 10: 'p'\n",
            "closed\n"
          ],
          "name": "stdout"
        }
      ]
    },
    {
      "cell_type": "markdown",
      "metadata": {
        "id": "E2zw2LUEcjzm"
      },
      "source": [
        "# **File Handling**"
      ]
    },
    {
      "cell_type": "code",
      "metadata": {
        "colab": {
          "base_uri": "https://localhost:8080/"
        },
        "id": "QD_lRG_BcniM",
        "outputId": "8748d0a4-a4ec-4c3e-da59-ff81b483ab35"
      },
      "source": [
        "f1=open('file','a')  #append one after other\n",
        "f1.write('Hy my name is Vyoma\\n I love painting')"
      ],
      "execution_count": null,
      "outputs": [
        {
          "output_type": "execute_result",
          "data": {
            "text/plain": [
              "36"
            ]
          },
          "metadata": {
            "tags": []
          },
          "execution_count": 11
        }
      ]
    },
    {
      "cell_type": "code",
      "metadata": {
        "colab": {
          "base_uri": "https://localhost:8080/"
        },
        "id": "BAdQiFziffNn",
        "outputId": "1e90a08e-a860-4667-d00c-1cc2f900abfe"
      },
      "source": [
        "f1=open('file1','w')  #append one after other\n",
        "f1.write('Vyoma')"
      ],
      "execution_count": null,
      "outputs": [
        {
          "output_type": "execute_result",
          "data": {
            "text/plain": [
              "5"
            ]
          },
          "metadata": {
            "tags": []
          },
          "execution_count": 14
        }
      ]
    },
    {
      "cell_type": "code",
      "metadata": {
        "colab": {
          "base_uri": "https://localhost:8080/"
        },
        "id": "GHI90NKFf6Pf",
        "outputId": "156f92e2-f9cf-4700-84fe-caf64d344e4f"
      },
      "source": [
        "f1=open('file','r')\n",
        "print(f1.read())"
      ],
      "execution_count": null,
      "outputs": [
        {
          "output_type": "stream",
          "text": [
            "Hy my name is Vyoma\n",
            " I love paintingHy my name is Vyoma\n",
            " I love painting\n"
          ],
          "name": "stdout"
        }
      ]
    },
    {
      "cell_type": "code",
      "metadata": {
        "colab": {
          "base_uri": "https://localhost:8080/"
        },
        "id": "MI-dMQSGgRkO",
        "outputId": "38170725-0dfc-4e70-9720-4e4e8b589824"
      },
      "source": [
        "f1=open('file','r')\n",
        "print(f1.readline())  #prints line one by one\n",
        "print(f1.readline())"
      ],
      "execution_count": null,
      "outputs": [
        {
          "output_type": "stream",
          "text": [
            "Hy my name is Vyoma\n",
            "\n",
            " I love paintingHy my name is Vyoma\n",
            "\n"
          ],
          "name": "stdout"
        }
      ]
    },
    {
      "cell_type": "code",
      "metadata": {
        "id": "Cs0xtjgNiOk_"
      },
      "source": [
        "f=open('file','r')\n",
        "f1=open('file1','w')\n",
        "\n",
        "for data in f:\n",
        "  f1.write(data)"
      ],
      "execution_count": null,
      "outputs": []
    },
    {
      "cell_type": "markdown",
      "metadata": {
        "id": "HVvBJNU-jKLk"
      },
      "source": [
        "# **Linear Search**"
      ]
    },
    {
      "cell_type": "code",
      "metadata": {
        "colab": {
          "base_uri": "https://localhost:8080/"
        },
        "id": "XMEhY4aAjMlG",
        "outputId": "0b78aa31-f822-404a-ec7b-62f55c683f94"
      },
      "source": [
        "num=[1,2,3,4,5]\n",
        "n=5\n",
        "pos=-1\n",
        "def search(num,n):\n",
        "  i=0\n",
        "  while i<len(num):\n",
        "    if num[i]==n:\n",
        "      global pos\n",
        "      pos=i\n",
        "      #globals()['pos']=i\n",
        "      return True\n",
        "    i+=1\n",
        "  return False\n",
        "\n",
        "if search(num,n):\n",
        "  print('found at ',pos)\n"
      ],
      "execution_count": null,
      "outputs": [
        {
          "output_type": "stream",
          "text": [
            "found at  4\n"
          ],
          "name": "stdout"
        }
      ]
    },
    {
      "cell_type": "markdown",
      "metadata": {
        "id": "kZJpgRiamB4d"
      },
      "source": [
        "# **Binary search**"
      ]
    },
    {
      "cell_type": "markdown",
      "metadata": {
        "id": "l6jtr6kzmI42"
      },
      "source": [
        "In linear search order of values can be anything\n",
        "\n",
        "but in Binary search the values have to be in sorted way"
      ]
    },
    {
      "cell_type": "code",
      "metadata": {
        "colab": {
          "base_uri": "https://localhost:8080/"
        },
        "id": "Rmfg3JyXmEdP",
        "outputId": "23ac541c-8feb-46a5-cac1-c3f4247def71"
      },
      "source": [
        "num=[1,2,3,4,5,6,7,8]\n",
        "n=7\n",
        "pos=-1\n",
        "def search(num,n):\n",
        "  l=0\n",
        "  u=len(num)-1\n",
        "\n",
        "  while l<=u:\n",
        "    mid=(l+u)//2\n",
        "\n",
        "    if num[mid]==n:\n",
        "      global pos\n",
        "      pos=mid\n",
        "      return True\n",
        "\n",
        "    else:\n",
        "      if num[mid]<n:\n",
        "        l=mid+1   #+1 because mid has been already checekd : so skip\n",
        "      else:\n",
        "        u=mid-1\n",
        "\n",
        "  return False\n",
        "\n",
        "\n",
        "if search(num,n):\n",
        "  print('found at ',pos)\n",
        "else:\n",
        "  print('not found')"
      ],
      "execution_count": null,
      "outputs": [
        {
          "output_type": "stream",
          "text": [
            "found at  6\n"
          ],
          "name": "stdout"
        }
      ]
    },
    {
      "cell_type": "markdown",
      "metadata": {
        "id": "oOZr05zKrEWk"
      },
      "source": [
        "# **Bubble sort**"
      ]
    },
    {
      "cell_type": "markdown",
      "metadata": {
        "id": "YiREeKkHrG_X"
      },
      "source": [
        "iteration 1: for the swapping and get the biggest number at the end\n",
        "\n",
        "iteration 2: for outer loop to do the same thing iteratively.... (len of list -1)"
      ]
    },
    {
      "cell_type": "code",
      "metadata": {
        "colab": {
          "base_uri": "https://localhost:8080/"
        },
        "id": "ip-O2Katrg71",
        "outputId": "f0fc3ecf-591a-45e0-8f10-52860b53132a"
      },
      "source": [
        "num=[5,3,6,8,7,2,9]\n",
        "\n",
        "def bubble(num):\n",
        "  for i in range(len(num)-1,0,-1):\n",
        "    for j in range(i):\n",
        "      if num[j]>num[j+1]:\n",
        "        num[j], num[j+1]= num[j+1], num[j] #Swap\n",
        "\n",
        "bubble(num)\n",
        "print(num)"
      ],
      "execution_count": null,
      "outputs": [
        {
          "output_type": "stream",
          "text": [
            "[2, 3, 5, 6, 7, 8, 9]\n"
          ],
          "name": "stdout"
        }
      ]
    },
    {
      "cell_type": "markdown",
      "metadata": {
        "id": "08opucdtt4u-"
      },
      "source": [
        "# **Selection Sort**"
      ]
    },
    {
      "cell_type": "markdown",
      "metadata": {
        "id": "0DYpNs12t7VO"
      },
      "source": [
        "ONLY 1 ITERATION:\n",
        "\n",
        "Find the min value and swap with beginning\n",
        "\n",
        "and you will have sorted and unsorted array and then get its min ..iterate.."
      ]
    },
    {
      "cell_type": "code",
      "metadata": {
        "colab": {
          "base_uri": "https://localhost:8080/"
        },
        "id": "WkOMAUcEt6uG",
        "outputId": "a74339be-e2db-4277-9990-e4e2a74602da"
      },
      "source": [
        "num=[5,3,6,8,7,2,9]\n",
        "\n",
        "def selection(num):\n",
        "  for i in range(len(num)-1):\n",
        "    minpos=i\n",
        "    for j in range(i,len(num)):\n",
        "      if num[j]<num[minpos]:\n",
        "        minpos=j\n",
        "\n",
        "    num[i], num[minpos]= num[minpos],num[i]\n",
        "    print(num)\n",
        "\n",
        "selection(num)\n",
        "print(num)"
      ],
      "execution_count": null,
      "outputs": [
        {
          "output_type": "stream",
          "text": [
            "[2, 3, 6, 8, 7, 5, 9]\n",
            "[2, 3, 6, 8, 7, 5, 9]\n",
            "[2, 3, 5, 8, 7, 6, 9]\n",
            "[2, 3, 5, 6, 7, 8, 9]\n",
            "[2, 3, 5, 6, 7, 8, 9]\n",
            "[2, 3, 5, 6, 7, 8, 9]\n",
            "[2, 3, 5, 6, 7, 8, 9]\n"
          ],
          "name": "stdout"
        }
      ]
    }
  ]
}