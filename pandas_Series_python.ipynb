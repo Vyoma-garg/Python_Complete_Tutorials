{
  "nbformat": 4,
  "nbformat_minor": 0,
  "metadata": {
    "colab": {
      "provenance": []
    },
    "kernelspec": {
      "name": "python3",
      "display_name": "Python 3"
    }
  },
  "cells": [
    {
      "cell_type": "code",
      "metadata": {
        "colab": {
          "base_uri": "https://localhost:8080/"
        },
        "id": "iOTk6Mc_VX8F",
        "outputId": "1be8bb65-ff94-4730-f9b1-118e1b52bcba"
      },
      "source": [
        "import pandas as pd\n",
        "winter=['fog','socks','sweaters','heaters']  #string datatype is object datatype in python\n",
        "s=pd.Series(winter)\n",
        "s"
      ],
      "execution_count": null,
      "outputs": [
        {
          "output_type": "execute_result",
          "data": {
            "text/plain": [
              "0         fog\n",
              "1       socks\n",
              "2    sweaters\n",
              "3     heaters\n",
              "dtype: object"
            ]
          },
          "metadata": {
            "tags": []
          },
          "execution_count": 18
        }
      ]
    },
    {
      "cell_type": "code",
      "metadata": {
        "colab": {
          "base_uri": "https://localhost:8080/"
        },
        "id": "MisWSUXvZ0Eo",
        "outputId": "31e9a176-fe5b-4811-9b61-23d9bed571d9"
      },
      "source": [
        "#attributes access valus from a series. No paranthesis, no manipulation can be done\n",
        "s.values\n",
        "s.index\n",
        "s.dtype # O is object datatype for strings in python"
      ],
      "execution_count": null,
      "outputs": [
        {
          "output_type": "execute_result",
          "data": {
            "text/plain": [
              "dtype('O')"
            ]
          },
          "metadata": {
            "tags": []
          },
          "execution_count": 7
        }
      ]
    },
    {
      "cell_type": "code",
      "metadata": {
        "colab": {
          "base_uri": "https://localhost:8080/"
        },
        "id": "j3oJ6fI2bkWS",
        "outputId": "40318461-b0cd-486b-86d6-be3cb7477e6b"
      },
      "source": [
        "#methods\n",
        "no=[1,2,3,4,5]\n",
        "s=pd.Series(no)\n",
        "s.sum()\n",
        "s.mean()\n",
        "s.product()\n"
      ],
      "execution_count": null,
      "outputs": [
        {
          "output_type": "execute_result",
          "data": {
            "text/plain": [
              "120"
            ]
          },
          "metadata": {
            "tags": []
          },
          "execution_count": 11
        }
      ]
    },
    {
      "cell_type": "code",
      "metadata": {
        "colab": {
          "base_uri": "https://localhost:8080/"
        },
        "id": "EIMi5s7UdwrX",
        "outputId": "d775d393-0d0b-4c50-a26c-3bc17b90a963"
      },
      "source": [
        "#parameters\n",
        "fruits=['mango','apple','guava']\n",
        "weekdays=['mon','tue','wed']\n",
        "pd.Series(fruits,weekdays) # (data,index)\n",
        "pd.Series(data=fruits,index=weekdays)"
      ],
      "execution_count": null,
      "outputs": [
        {
          "output_type": "execute_result",
          "data": {
            "text/plain": [
              "mon    mango\n",
              "tue    apple\n",
              "wed    guava\n",
              "dtype: object"
            ]
          },
          "metadata": {
            "tags": []
          },
          "execution_count": 13
        }
      ]
    },
    {
      "cell_type": "code",
      "metadata": {
        "colab": {
          "base_uri": "https://localhost:8080/"
        },
        "id": "F3vrndzbjDLQ",
        "outputId": "9924304f-afc9-42c0-d403-c67317eb08ef"
      },
      "source": [
        "#Reading csv file\n",
        "s=pd.read_csv(\"/content/sample_data/california_housing_test.csv\",squeeze=True, error_bad_lines=False,usecols=['longitude']) #squeze converts dataset into series object, usecols gets the specified column\n",
        "print(s.head()) #prints first 5 rows\n",
        "print(s.head(10)) #can be specified\n",
        "print(s.tail()) #last five rows\n",
        "print(s.tail(10))\n",
        "#s.is_unique  #attribute checks if there are unique values or not. gives boolean output. if all unique =True\n",
        "print(s.ndim) #attribute gives dimension\n",
        "print(s.shape)\n",
        "print(s.size)\n",
        "s.name=\"s_new\" #changes the column name temporarily\n",
        "print(s.sort_values()) #to sort\n",
        "print(s.sort_values(ascending=False))#Series in descending order\n",
        "print(s.sort_index(ascending=False,inplace=True)) #sort_index xused to sort by index values, inplace permanent change le aata hai\n",
        "print(s.head(10))\n"
      ],
      "execution_count": null,
      "outputs": [
        {
          "output_type": "stream",
          "text": [
            "0   -122.05\n",
            "1   -118.30\n",
            "2   -117.81\n",
            "3   -118.36\n",
            "4   -119.67\n",
            "Name: longitude, dtype: float64\n",
            "0   -122.05\n",
            "1   -118.30\n",
            "2   -117.81\n",
            "3   -118.36\n",
            "4   -119.67\n",
            "5   -119.56\n",
            "6   -121.43\n",
            "7   -120.65\n",
            "8   -122.84\n",
            "9   -118.02\n",
            "Name: longitude, dtype: float64\n",
            "2995   -119.86\n",
            "2996   -118.14\n",
            "2997   -119.70\n",
            "2998   -117.12\n",
            "2999   -119.63\n",
            "Name: longitude, dtype: float64\n",
            "2990   -118.23\n",
            "2991   -117.17\n",
            "2992   -122.33\n",
            "2993   -117.91\n",
            "2994   -117.93\n",
            "2995   -119.86\n",
            "2996   -118.14\n",
            "2997   -119.70\n",
            "2998   -117.12\n",
            "2999   -119.63\n",
            "Name: longitude, dtype: float64\n",
            "1\n",
            "(3000,)\n",
            "3000\n",
            "1876   -124.18\n",
            "1422   -124.17\n",
            "2577   -124.16\n",
            "111    -124.16\n",
            "910    -124.16\n",
            "         ...  \n",
            "244    -114.98\n",
            "2640   -114.62\n",
            "1145   -114.61\n",
            "1595   -114.55\n",
            "2055   -114.49\n",
            "Name: s_new, Length: 3000, dtype: float64\n",
            "2055   -114.49\n",
            "1595   -114.55\n",
            "1145   -114.61\n",
            "2640   -114.62\n",
            "244    -114.98\n",
            "         ...  \n",
            "910    -124.16\n",
            "111    -124.16\n",
            "2577   -124.16\n",
            "1422   -124.17\n",
            "1876   -124.18\n",
            "Name: s_new, Length: 3000, dtype: float64\n",
            "None\n",
            "2999   -119.63\n",
            "2998   -117.12\n",
            "2997   -119.70\n",
            "2996   -118.14\n",
            "2995   -119.86\n",
            "2994   -117.93\n",
            "2993   -117.91\n",
            "2992   -122.33\n",
            "2991   -117.17\n",
            "2990   -118.23\n",
            "Name: s_new, dtype: float64\n"
          ],
          "name": "stdout"
        }
      ]
    },
    {
      "cell_type": "code",
      "metadata": {
        "colab": {
          "base_uri": "https://localhost:8080/"
        },
        "id": "H53_IIn1E0WJ",
        "outputId": "efe1f70e-9863-4ca1-a347-4551e2ade528"
      },
      "source": [
        "#extracting via index position\n",
        "print(s[10])\n",
        "print(s[10:20]) # when index position is used it fetches upto n-1th position\n",
        "print(s[-30:])\n",
        "#extracting via index label\n",
        "#in this nth position ,ie, last tak values aati hai.\n",
        "#extracting values using get method\n",
        "print(s.get(10))\n",
        "print(s.get(3001))  #none\n",
        "print(s.get(key=3001,default=\"not there\")) #changing none to your defined \"not there\" any name\n",
        "\n",
        "\n",
        "print(s.idxmax()) #just like argmax\n",
        "print(s.max())\n",
        "print(s[2055])\n",
        "print(s.value_counts())  #counts ki kis value ke kitni bar repeat ho raha hai\n",
        "print(s.value_counts().sum())  #same as count()\n",
        "print(s.value_counts(ascending=True))"
      ],
      "execution_count": null,
      "outputs": [
        {
          "output_type": "stream",
          "text": [
            "-118.24\n",
            "2989   -122.02\n",
            "2988   -122.01\n",
            "2987   -121.97\n",
            "2986   -118.25\n",
            "2985   -120.47\n",
            "2984   -117.59\n",
            "2983   -122.54\n",
            "2982   -118.28\n",
            "2981   -120.66\n",
            "2980   -119.76\n",
            "Name: s_new, dtype: float64\n",
            "29   -118.48\n",
            "28   -118.45\n",
            "27   -118.39\n",
            "26   -122.42\n",
            "25   -118.03\n",
            "24   -117.28\n",
            "23   -122.20\n",
            "22   -118.16\n",
            "21   -121.37\n",
            "20   -122.15\n",
            "19   -122.59\n",
            "18   -118.88\n",
            "17   -121.20\n",
            "16   -120.81\n",
            "15   -117.99\n",
            "14   -117.97\n",
            "13   -117.03\n",
            "12   -121.93\n",
            "11   -119.12\n",
            "10   -118.24\n",
            "9    -118.02\n",
            "8    -122.84\n",
            "7    -120.65\n",
            "6    -121.43\n",
            "5    -119.56\n",
            "4    -119.67\n",
            "3    -118.36\n",
            "2    -117.81\n",
            "1    -118.30\n",
            "0    -122.05\n",
            "Name: s_new, dtype: float64\n",
            "-118.24\n",
            "None\n",
            "not there\n",
            "2055\n",
            "-114.49\n",
            "-114.49\n",
            "-118.26    26\n",
            "-118.21    26\n",
            "-118.29    25\n",
            "-118.27    25\n",
            "-118.28    25\n",
            "           ..\n",
            "-119.99     1\n",
            "-114.61     1\n",
            "-123.08     1\n",
            "-122.87     1\n",
            "-118.62     1\n",
            "Name: s_new, Length: 607, dtype: int64\n",
            "3000\n",
            "-118.62     1\n",
            "-122.87     1\n",
            "-123.08     1\n",
            "-114.61     1\n",
            "-119.99     1\n",
            "           ..\n",
            "-118.28    25\n",
            "-118.27    25\n",
            "-118.29    25\n",
            "-118.21    26\n",
            "-118.26    26\n",
            "Name: s_new, Length: 607, dtype: int64\n"
          ],
          "name": "stdout"
        }
      ]
    },
    {
      "cell_type": "code",
      "metadata": {
        "id": "UeQ4jbJwMC08"
      },
      "source": [],
      "execution_count": null,
      "outputs": []
    },
    {
      "cell_type": "code",
      "metadata": {
        "id": "MokLd8oyDeeT"
      },
      "source": [],
      "execution_count": null,
      "outputs": []
    }
  ]
}