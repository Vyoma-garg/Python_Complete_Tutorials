{
  "nbformat": 4,
  "nbformat_minor": 0,
  "metadata": {
    "colab": {
      "provenance": []
    },
    "kernelspec": {
      "name": "python3",
      "display_name": "Python 3"
    },
    "language_info": {
      "name": "python"
    }
  },
  "cells": [
    {
      "cell_type": "markdown",
      "metadata": {
        "id": "HVvBJNU-jKLk"
      },
      "source": [
        "# **Linear Search**"
      ]
    },
    {
      "cell_type": "code",
      "metadata": {
        "colab": {
          "base_uri": "https://localhost:8080/"
        },
        "id": "XMEhY4aAjMlG",
        "outputId": "cc8dd980-a673-4625-a19e-cc8a960bada1"
      },
      "source": [
        "num=[1,2,3,4,5]\n",
        "n=5\n",
        "pos=-1\n",
        "def search(num,n):\n",
        "  i=0\n",
        "  while i<len(num):\n",
        "    if num[i]==n:\n",
        "      global pos\n",
        "      pos=i\n",
        "      #globals()['pos']=i\n",
        "      return True\n",
        "    i+=1\n",
        "  return False\n",
        "\n",
        "if search(num,n):\n",
        "  print('found at ',pos)\n"
      ],
      "execution_count": 1,
      "outputs": [
        {
          "output_type": "stream",
          "name": "stdout",
          "text": [
            "found at  4\n"
          ]
        }
      ]
    },
    {
      "cell_type": "markdown",
      "metadata": {
        "id": "kZJpgRiamB4d"
      },
      "source": [
        "# **Binary search**"
      ]
    },
    {
      "cell_type": "markdown",
      "metadata": {
        "id": "l6jtr6kzmI42"
      },
      "source": [
        "In linear search order of values can be anything\n",
        "\n",
        "but in Binary search the values have to be in sorted way"
      ]
    },
    {
      "cell_type": "code",
      "metadata": {
        "colab": {
          "base_uri": "https://localhost:8080/"
        },
        "id": "Rmfg3JyXmEdP",
        "outputId": "9744183a-91dc-4960-ca8d-05e7eec7a446"
      },
      "source": [
        "num=[1,2,3,4,5,6,7,8]\n",
        "n=7\n",
        "pos=-1\n",
        "def search(num,n):\n",
        "  l=0\n",
        "  u=len(num)-1\n",
        "\n",
        "  while l<=u:\n",
        "    mid=(l+u)//2\n",
        "\n",
        "    if num[mid]==n:\n",
        "      global pos\n",
        "      pos=mid\n",
        "      return True\n",
        "\n",
        "    else:\n",
        "      if num[mid]<n:\n",
        "        l=mid+1   #+1 because mid has been already checekd : so skip\n",
        "      else:\n",
        "        u=mid-1\n",
        "\n",
        "  return False\n",
        "\n",
        "\n",
        "if search(num,n):\n",
        "  print('found at ',pos)\n",
        "else:\n",
        "  print('not found')"
      ],
      "execution_count": 2,
      "outputs": [
        {
          "output_type": "stream",
          "name": "stdout",
          "text": [
            "found at  6\n"
          ]
        }
      ]
    },
    {
      "cell_type": "markdown",
      "metadata": {
        "id": "oOZr05zKrEWk"
      },
      "source": [
        "# **Bubble sort**"
      ]
    },
    {
      "cell_type": "markdown",
      "metadata": {
        "id": "YiREeKkHrG_X"
      },
      "source": [
        "iteration 1: for the swapping and get the biggest number at the end\n",
        "\n",
        "iteration 2: for outer loop to do the same thing iteratively.... (len of list -1)"
      ]
    },
    {
      "cell_type": "code",
      "metadata": {
        "colab": {
          "base_uri": "https://localhost:8080/"
        },
        "id": "ip-O2Katrg71",
        "outputId": "0b6d3389-ab5b-46ad-9202-56946f5864f0"
      },
      "source": [
        "num=[5,3,6,8,7,2,9]\n",
        "\n",
        "def bubble(num):\n",
        "  for i in range(len(num)-1,0,-1):\n",
        "    for j in range(i):\n",
        "      if num[j]>num[j+1]:\n",
        "        num[j], num[j+1]= num[j+1], num[j] #Swap\n",
        "\n",
        "bubble(num)\n",
        "print(num)"
      ],
      "execution_count": 3,
      "outputs": [
        {
          "output_type": "stream",
          "name": "stdout",
          "text": [
            "[2, 3, 5, 6, 7, 8, 9]\n"
          ]
        }
      ]
    },
    {
      "cell_type": "markdown",
      "metadata": {
        "id": "08opucdtt4u-"
      },
      "source": [
        "# **Selection Sort**"
      ]
    },
    {
      "cell_type": "markdown",
      "metadata": {
        "id": "0DYpNs12t7VO"
      },
      "source": [
        "ONLY 1 ITERATION:\n",
        "\n",
        "Find the min value and swap with beginning\n",
        "\n",
        "and you will have sorted and unsorted array and then get its min ..iterate.."
      ]
    },
    {
      "cell_type": "code",
      "metadata": {
        "colab": {
          "base_uri": "https://localhost:8080/"
        },
        "id": "WkOMAUcEt6uG",
        "outputId": "ac8b7eb6-0694-4069-fe01-1bfe127aa965"
      },
      "source": [
        "num=[5,3,6,8,7,2,9]\n",
        "\n",
        "def selection(num):\n",
        "  for i in range(len(num)-1):\n",
        "    minpos=i\n",
        "    for j in range(i,len(num)):\n",
        "      if num[j]<num[minpos]:\n",
        "        minpos=j\n",
        "\n",
        "    num[i], num[minpos]= num[minpos],num[i]\n",
        "    print(num)\n",
        "\n",
        "selection(num)\n",
        "print(num)"
      ],
      "execution_count": 4,
      "outputs": [
        {
          "output_type": "stream",
          "name": "stdout",
          "text": [
            "[2, 3, 6, 8, 7, 5, 9]\n",
            "[2, 3, 6, 8, 7, 5, 9]\n",
            "[2, 3, 5, 8, 7, 6, 9]\n",
            "[2, 3, 5, 6, 7, 8, 9]\n",
            "[2, 3, 5, 6, 7, 8, 9]\n",
            "[2, 3, 5, 6, 7, 8, 9]\n",
            "[2, 3, 5, 6, 7, 8, 9]\n"
          ]
        }
      ]
    }
  ]
}